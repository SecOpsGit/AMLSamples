{
 "cells": [
  {
   "cell_type": "markdown",
   "metadata": {},
   "source": [

    "# How to do distributed training on Azure ML service with tf.estimator & tf.data  dataset using horovod \n",

    "\n",
    "This notebook demonstrates how to perform distributed training using tf.estimator and tf.data with horovod in Azure Machine learning \n",
    "\n",
    "Let's import the required Azure ML Packages and defines the needed constants..."
   ]
  },
  {
   "cell_type": "code",
   "execution_count": null,

   "metadata": {
    "scrolled": true
   },

   "outputs": [],
   "source": [
    "import azureml\n",
    "from azureml.core import Workspace, Experiment\n",
    "from azureml.core.compute import ComputeTarget, AmlCompute\n",
    "from azureml.core.compute_target import ComputeTargetException\n",
    "from azureml.train.dnn import TensorFlow\n",
    "from azureml.widgets import RunDetails\n",
    "from azureml.core.runconfig import MpiConfiguration\n",
    "\n",
    "\n",
    "SUBSCRIPTION_ID = \"\"\n",
    "RESOURCE_GROUP = \"\"\n",
    "WORKSPACE_NAME = \"\"\n",
    "\n",
    "CLUSTER_NAME = \"gpucluster\"\n",
    "PROJECT_FOLDER = \"./\"\n",
    "\n",
    "print(\"SDK version:\", azureml.core.VERSION)"
   ]
  },
  {
   "cell_type": "markdown",
   "metadata": {},
   "source": [
    "## Initialize Azure ML workspace"
   ]
  },
  {
   "cell_type": "code",
   "execution_count": null,

   "metadata": {
    "scrolled": true
   },

   "outputs": [],
   "source": [
    "ws = Workspace(subscription_id = SUBSCRIPTION_ID, \n",
    "               resource_group =RESOURCE_GROUP , \n",
    "               workspace_name = WORKSPACE_NAME\n",
    "              )\n",
    "    \n",
    "ws.write_config()"
   ]
  },
  {
   "cell_type": "markdown",
   "metadata": {},
   "source": [
    "## Initialize Azure ML compute"
   ]
  },
  {
   "cell_type": "code",
   "execution_count": null,

   "metadata": {
    "scrolled": true
   },

   "outputs": [],
   "source": [
    "try:\n",
    "    gpu_cluster = ComputeTarget(workspace=ws,\n",
    "                                name=CLUSTER_NAME\n",
    "                               )\n",
    "    print('Found existing cluster, use it.')\n",
    "except ComputeTargetException:\n",
    "    compute_config = AmlCompute.provisioning_configuration(vm_size='STANDARD_NC6',\n",
    "                                                           max_nodes=2\n",
    "                                                          )\n",
    "    gpu_cluster = ComputeTarget.create(ws, \n",
    "                                       gpu_cluster_name,\n",
    "                                       compute_config\n",
    "                                      )\n",
    "\n",
    "gpu_cluster.wait_for_completion(show_output=True)"
   ]
  },
  {
   "cell_type": "markdown",
   "metadata": {},
   "source": [
    "## Initialize Tensorflow estimator"
   ]
  },
  {
   "cell_type": "code",
   "execution_count": null,

   "metadata": {
    "scrolled": true
   },
   "outputs": [],
   "source": [
    "estimator = TensorFlow(source_directory=PROJECT_FOLDER,\n",

    "                       compute_target=gpu_cluster,\n",
    "                       entry_script='train.py',\n",
    "                       node_count=2,\n",
    "                       distributed_training=MpiConfiguration(),\n",
    "                       use_gpu=True\n",
    "                      )"
   ]
  },
  {
   "cell_type": "markdown",
   "metadata": {},
   "source": [
    "## Create experiment and submit run for execution"
   ]
  },
  {
   "cell_type": "code",
   "execution_count": null,

   "metadata": {
    "scrolled": true
   },

   "outputs": [],
   "source": [
    "experiment = Experiment(ws, name=\"tf_estimator_horovod\")\n",
    "run = experiment.submit(estimator)\n",
    "RunDetails(run).show()"
   ]
  }
 ],
 "metadata": {
  "kernelspec": {
   "display_name": "Python [conda env:amlenv]",
   "language": "python",
   "name": "conda-env-amlenv-py"
  },
  "language_info": {
   "codemirror_mode": {
    "name": "ipython",
    "version": 3
   },
   "file_extension": ".py",
   "mimetype": "text/x-python",
   "name": "python",
   "nbconvert_exporter": "python",
   "pygments_lexer": "ipython3",
   "version": "3.6.7"
  }
 },
 "nbformat": 4,
 "nbformat_minor": 2
}
