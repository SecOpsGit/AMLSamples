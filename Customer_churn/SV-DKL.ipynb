{
 "cells": [
  {
   "cell_type": "code",
   "execution_count": 3,
   "metadata": {},
   "outputs": [
    {
     "name": "stderr",
     "output_type": "stream",
     "text": [
      "/extdrive1/anaconda3/envs/amlenv/lib/python3.6/site-packages/sklearn/cross_validation.py:41: DeprecationWarning: This module was deprecated in version 0.18 in favor of the model_selection module into which all the refactored classes and functions are moved. Also note that the interface of the new CV iterators are different from that of this module. This module will be removed in 0.20.\n",
      "  \"This module will be removed in 0.20.\", DeprecationWarning)\n"
     ]
    }
   ],
   "source": [
    "import math\n",
    "import numpy as np\n",
    "\n",
    "\n",
    "from sklearn.cross_validation import train_test_split\n",
    "\n",
    "from matplotlib import pyplot as plt\n",
    "%matplotlib inline\n",
    "\n",
    "SEED = 199 "
   ]
  },
  {
   "cell_type": "code",
   "execution_count": 4,
   "metadata": {},
   "outputs": [
    {
     "name": "stdout",
     "output_type": "stream",
     "text": [
      "[[-1.69864255  0.60587297  1.08623665 -1.35907589  0.09175171 -1.72917063\n",
      "   0.32811388 -1.33958995  1.5332894   1.61508971  0.84722853 -1.62794317\n",
      "  -1.52995417  1.12233683  1.2499034  -0.25931899  0.         -0.98360875\n",
      "  -0.14856415  0.14856415  1.5279518  -0.99834025 -0.42239949 -0.22830453\n",
      "  -1.02373279  1.02373279 -0.49957247  0.49957247 -0.97949492  0.97949492\n",
      "   0.         -0.65835683 -0.81664618  1.53652841 -0.1517957  -0.12879773\n",
      "  -0.12938451 -0.14993255 -0.14976212 -0.14856415 -0.13189904 -0.14526706\n",
      "  -0.1514585  -0.12977432 -0.15463491 -0.14438795 -0.14314887 -0.13698402\n",
      "  -0.14526706 -0.14027892 -0.14993255 -0.14118155 -0.14082114 -0.15313776\n",
      "  -0.13399234 -0.13900615 -0.15010279 -0.13698402 -0.14082114 -0.14856415\n",
      "  -0.1338033  -0.14596685 -0.1358693  -0.15078204 -0.13698402 -0.13937089\n",
      "  -0.14064061 -0.15297059 -0.14735729 -0.13605567 -0.14009775 -0.14959152\n",
      "  -0.13679882 -0.14189985 -0.14596685 -0.13304464 -0.14770303 -0.14561734\n",
      "  -0.14243638 -0.13624181  6.71558628 -0.14822025 -0.13209061 -0.15061249\n",
      "   0.20076094 -0.20076094  0.31709375 -0.31709375]]\n",
      "(20468, 88)\n",
      "(20468,)\n",
      "(13713, 88)\n",
      "(6755, 88)\n"
     ]
    }
   ],
   "source": [
    "X = np.load('X.npy')\n",
    "y = np.load('y.npy')\n",
    "print(X[0:1,:])\n",
    "\n",
    "print(X.shape, y.shape,sep='\\n')\n",
    "X_train, X_test, y_train, y_test = train_test_split(\n",
    "     X, y, test_size=.33, random_state=SEED)\n",
    "\n",
    "\n",
    "\n",
    "print(X_train.shape, X_test.shape,sep='\\n')"
   ]
  },
  {
   "cell_type": "code",
   "execution_count": 1,
   "metadata": {},
   "outputs": [
    {
     "name": "stdout",
     "output_type": "stream",
     "text": [
      "Writing model.py\n"
     ]
    }
   ],
   "source": [
    "%%writefile model.py\n",
    "class NeuralnetLayer(torch.nn.Sequential):\n",
    "    \n",
    "    def __init__(self,data_dim, output_dim):\n",
    "        super(NeuralnetLayer, self).__init__()\n",
    "       \n",
    "        self.add_module('linear1', torch.nn.Linear(data_dim, 200))\n",
    "        self.add_module('bn1', torch.nn.BatchNorm1d(200))\n",
    "        self.add_module('relu1', torch.nn.ReLU())\n",
    "        self.add_module('linear2', torch.nn.Linear(200, 100))\n",
    "        self.add_module('bn2', torch.nn.BatchNorm1d(100))\n",
    "        self.add_module('relu2', torch.nn.ReLU())\n",
    "        self.add_module('linear3', torch.nn.Linear(100, 50))\n",
    "        self.add_module('bn3', torch.nn.BatchNorm1d(50))\n",
    "        self.add_module('relu3', torch.nn.ReLU())\n",
    "        self.add_module('linear4', torch.nn.Linear(50,output_dim))\n"
   ]
  },
  {
   "cell_type": "code",
   "execution_count": 239,
   "metadata": {},
   "outputs": [],
   "source": [
    "class GaussianProcessLayer(AbstractVariationalGP):\n",
    "    def __init__(self, num_dim, grid_bounds, grid_size):\n",
    "        variational_distribution = CholeskyVariationalDistribution(\n",
    "                                                 num_inducing_points=grid_size,\n",
    "                                                 batch_size=num_dim\n",
    "                                                )\n",
    "       \n",
    "        variational_strategy = AdditiveGridInterpolationVariationalStrategy(\n",
    "                                                         self,\n",
    "                                                         grid_size=grid_size,\n",
    "                                                         grid_bounds=[grid_bounds],\n",
    "                                                         num_dim=num_dim,\n",
    "                                                         variational_distribution=variational_distribution\n",
    "                                                        )\n",
    "        super(GaussianProcessLayer,self).__init__(variational_strategy)\n",
    "        '''self.covar_module = gpytorch.kernels.ScaleKernel(\n",
    "            gpytorch.kernels.RBFKernel(\n",
    "                lengthscale_prior=gpytorch.priors.SmoothedBoxPrior(\n",
    "                    math.exp(-1), math.exp(1), sigma=0.1, transform=torch.exp\n",
    "                )\n",
    "            )\n",
    "        )'''\n",
    "        self.covar_module = gpytorch.kernels.SpectralMixtureKernel(num_mixtures=4, ard_dum_dims=num_dim)\n",
    "        self.mean_module = gpytorch.means.ConstantMean()\n",
    "        self.grid_bounds = grid_bounds\n",
    "\n",
    "    def forward(self, x):\n",
    "        mean = self.mean_module(x)\n",
    "        covar = self.covar_module(x)\n",
    "        return gpytorch.distributions.MultivariateNormal(mean, covar)"
   ]
  },
  {
   "cell_type": "code",
   "execution_count": 240,
   "metadata": {},
   "outputs": [],
   "source": [
    "class DKLModel(gpytorch.Module):\n",
    "    def __init__(self, nnet_layer, num_dim, \n",
    "                 grid_bounds,grid_size):\n",
    "        super(DKLModel, self).__init__()\n",
    "        self.nnet_layer = nnet_layer\n",
    "        self.gp_layer = GaussianProcessLayer(num_dim=num_dim, \n",
    "                                             grid_bounds=grid_bounds,\n",
    "                                             grid_size=grid_size)\n",
    "        self.grid_bounds = grid_bounds\n",
    "\n",
    "    def forward(self, x):\n",
    "        features = self.nnet_layer(x)\n",
    "        features = gpytorch.utils.grid.scale_to_bounds(features, self.grid_bounds[0], self.grid_bounds[1])\n",
    "        #features = features.view(features.size(0),-1)\n",
    "        res = self.gp_layer(features)\n",
    "        return res"
   ]
  },
  {
   "cell_type": "code",
   "execution_count": 11,
   "metadata": {},
   "outputs": [
    {
     "ename": "IndentationError",
     "evalue": "unindent does not match any outer indentation level (trainer.py, line 69)",
     "output_type": "error",
     "traceback": [
      "Traceback \u001b[0;36m(most recent call last)\u001b[0m:\n",
      "  File \u001b[1;32m\"/extdrive1/anaconda3/envs/amlenv/lib/python3.6/site-packages/IPython/core/interactiveshell.py\"\u001b[0m, line \u001b[1;32m2961\u001b[0m, in \u001b[1;35mrun_code\u001b[0m\n    exec(code_obj, self.user_global_ns, self.user_ns)\n",
      "\u001b[0;36m  File \u001b[0;32m\"<ipython-input-11-c05cffb283b7>\"\u001b[0;36m, line \u001b[0;32m1\u001b[0;36m, in \u001b[0;35m<module>\u001b[0;36m\u001b[0m\n\u001b[0;31m    from trainer import SvDklTrainer\u001b[0m\n",
      "\u001b[0;36m  File \u001b[0;32m\"/extdrive1/home/sasuke/dev/amlsamples/Customer_churn/trainer.py\"\u001b[0;36m, line \u001b[0;32m69\u001b[0m\n\u001b[0;31m    scheduler = MultiStepLR(self.optimizer,gamma=0.1,milestones=[0.5 * n_epochs, 0.75 * n_epochs])\u001b[0m\n\u001b[0m                                                                                                  ^\u001b[0m\n\u001b[0;31mIndentationError\u001b[0m\u001b[0;31m:\u001b[0m unindent does not match any outer indentation level\n"
     ]
    }
   ],
   "source": [
    "from trainer import SvDklTrainer\n",
    "\n",
    "X_train,y_train = torch.FloatTensor(X_train), torch.FloatTensor(y_train)\n",
    "print(X_train.shape)\n",
    "batch_size = 512\n",
    "dataset = utils.TensorDataset(X_train,y_train)\n",
    "dataloader = utils.DataLoader(dataset, \n",
    "                              batch_size = batch_size,\n",
    "                              shuffle = True)"
   ]
  },
  {
   "cell_type": "code",
   "execution_count": 242,
   "metadata": {},
   "outputs": [
    {
     "name": "stdout",
     "output_type": "stream",
     "text": [
      "64\n"
     ]
    }
   ],
   "source": [
    "hyper_param = {nn_lr=1e-2,\n",
    "               lh_lr=1e-3,\n",
    "               epochs=100,\n",
    "               grid_size=64,\n",
    "               grid_bound=(-1,1),\n",
    "               latent_dim=2,\n",
    "               input_dim=X_train.size(1)\n",
    "              }"
   ]
  },
  {
   "cell_type": "code",
   "execution_count": 243,
   "metadata": {},
   "outputs": [],
   "source": []
  },
  {
   "cell_type": "code",
   "execution_count": 245,
   "metadata": {},
   "outputs": [
    {
     "name": "stdout",
     "output_type": "stream",
     "text": [
      "[0. 0. 0. ... 1. 0. 0.]\n",
      "[1. 0. 0. ... 1. 1. 1.]\n",
      "AUC score:  0.51\n",
      "Accuracy score:  0.17\n"
     ]
    }
   ],
   "source": []
  },
  {
   "cell_type": "code",
   "execution_count": 216,
   "metadata": {},
   "outputs": [],
   "source": [
    "import torch.optim as optim\n",
    "class Net(nn.Module):\n",
    "    \n",
    "    def __init__(self,data_dim):\n",
    "        super().__init__()\n",
    "        self.fc1 = nn.Linear(data_dim, 400)\n",
    "        self.relu1 = nn.ReLU()\n",
    "        self.dout = nn.Dropout(0.2)\n",
    "        self.fc2 = nn.Linear(400, 200)\n",
    "        self.relu2 = nn.ReLU()\n",
    "        self.dout2 = nn.Dropout(0.2)\n",
    "        self.fc3 = nn.Linear(200, 50)\n",
    "        self.relu3 = nn.ReLU()\n",
    "        self.fc4 = nn.Linear(50, 1)\n",
    "        self.out_act = nn.Sigmoid()\n",
    "        \n",
    "    def forward(self, input_):\n",
    "        a1 = self.fc1(input_)\n",
    "        h1 = self.relu1(a1)\n",
    "        dout = self.dout(h1)\n",
    "        a2 = self.fc2(dout)\n",
    "        h2 = self.relu2(a2)\n",
    "        a3 = self.dout2(h2)\n",
    "        h3 = self.fc3(a3)\n",
    "        a3 = self.relu3(h3)\n",
    "        fc4 =self.fc4(a3)\n",
    "        y = self.out_act(fc4)\n",
    "        return y\n",
    "    \n",
    "net = Net(X_train.shape[1])\n",
    "opt = optim.Adam(net.parameters(), lr=1e-2, betas=(0.9, 0.999))\n",
    "criterion = nn.BCELoss()"
   ]
  },
  {
   "cell_type": "code",
   "execution_count": 217,
   "metadata": {},
   "outputs": [],
   "source": [
    "def train_epoch(model, opt, criterion, dataloader, batch_size=50):\n",
    "    model.train()\n",
    "    losses = []\n",
    "    for i, (x,y) in enumerate(dataloader):\n",
    "\n",
    "        opt.zero_grad()\n",
    "        # (1) Forward\n",
    "        y_hat = net(x)\n",
    "        # (2) Compute diff\n",
    "        loss = criterion(y_hat, y)\n",
    "        # (3) Compute gradients\n",
    "        loss.backward()\n",
    "        # (4) update weights\n",
    "        opt.step()        \n",
    "        losses.append(loss.data.numpy())\n",
    "    return losses"
   ]
  },
  {
   "cell_type": "code",
   "execution_count": 218,
   "metadata": {},
   "outputs": [
    {
     "name": "stderr",
     "output_type": "stream",
     "text": [
      "/extdrive1/anaconda3/envs/amlenv/lib/python3.6/site-packages/torch/nn/functional.py:2016: UserWarning: Using a target size (torch.Size([512])) that is different to the input size (torch.Size([512, 1])) is deprecated. Please ensure they have the same size.\n",
      "  \"Please ensure they have the same size.\".format(target.size(), input.size()))\n",
      "/extdrive1/anaconda3/envs/amlenv/lib/python3.6/site-packages/torch/nn/functional.py:2016: UserWarning: Using a target size (torch.Size([401])) that is different to the input size (torch.Size([401, 1])) is deprecated. Please ensure they have the same size.\n",
      "  \"Please ensure they have the same size.\".format(target.size(), input.size()))\n"
     ]
    },
    {
     "data": {
      "text/plain": [
       "[<matplotlib.lines.Line2D at 0x7fc3bc0b1898>]"
      ]
     },
     "execution_count": 218,
     "metadata": {},
     "output_type": "execute_result"
    },
    {
     "data": {
      "image/png": "[encoded data removed]",
      "text/plain": [
       "<Figure size 432x288 with 1 Axes>"
      ]
     },
     "metadata": {
      "needs_background": "light"
     },
     "output_type": "display_data"
    }
   ],
   "source": [
    "import matplotlib.pyplot as plt\n",
    "%matplotlib inline\n",
    "\n",
    "e_losses = []\n",
    "num_epochs = 20\n",
    "for e in range(num_epochs):\n",
    "    e_losses += train_epoch(net, opt, criterion,dataloader)\n",
    "plt.plot(e_losses)"
   ]
  },
  {
   "cell_type": "code",
   "execution_count": 219,
   "metadata": {},
   "outputs": [
    {
     "name": "stdout",
     "output_type": "stream",
     "text": [
      "AUC score:  0.68\n",
      "Accuracy score:  0.91\n"
     ]
    }
   ],
   "source": [
    "test_dataset = utils.TensorDataset(torch.FloatTensor(X_test),\n",
    "                                   torch.FloatTensor(y_test))\n",
    "test_dataloader = utils.DataLoader(test_dataset,batch_size=24)\n",
    "\n",
    "y_pred_lst = []\n",
    "y_truth_lst = []\n",
    "\n",
    "with torch.no_grad():\n",
    "    for i, (X, y) in enumerate(test_dataloader):\n",
    "        \n",
    "        output = net(X)\n",
    "        \n",
    "        y_pred = output.ge(0.5).float().cpu().numpy()\n",
    "        y_pred_lst.append(y_pred)\n",
    "        y_truth_lst.append(y.numpy())\n",
    "        \n",
    "    truth = np.concatenate(y_truth_lst)\n",
    "    pred =  np.concatenate(y_pred_lst)\n",
    "   \n",
    "    auc = roc_auc_score(truth,pred)\n",
    "    accuracy = accuracy_score(truth,pred)   \n",
    "    \n",
    "print(\"AUC score: \",round(auc,2))\n",
    "print(\"Accuracy score: \",round(accuracy,2))"
   ]
  },
  {
   "cell_type": "code",
   "execution_count": null,
   "metadata": {},
   "outputs": [],
   "source": []
  }
 ],
 "metadata": {
  "kernelspec": {
   "display_name": "Python [conda env:amlenv]",
   "language": "python",
   "name": "conda-env-amlenv-py"
  },
  "language_info": {
   "codemirror_mode": {
    "name": "ipython",
    "version": 3
   },
   "file_extension": ".py",
   "mimetype": "text/x-python",
   "name": "python",
   "nbconvert_exporter": "python",
   "pygments_lexer": "ipython3",
   "version": "3.6.7"
  }
 },
 "nbformat": 4,
 "nbformat_minor": 2
}
