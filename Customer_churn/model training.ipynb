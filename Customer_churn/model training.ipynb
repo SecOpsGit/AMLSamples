{
 "cells": [
  {
   "cell_type": "code",
   "execution_count": 1,
   "metadata": {},
   "outputs": [
    {
     "name": "stdout",
     "output_type": "stream",
     "text": [
      "SDK verison 1.0.23\n"
     ]
    }
   ],
   "source": [
    "%load_ext autoreload\n",
    "%autoreload 2\n",
    "\n",
    "import os\n",
    "import urllib\n",
    "\n",
    "from azureml.core import  (Workspace,Run,VERSION,\n",
    "                           Experiment,Datastore)\n",
    "from azureml.core.runconfig import (RunConfiguration,\n",
    "                                    DEFAULT_GPU_IMAGE)\n",
    "from azureml.core.conda_dependencies import CondaDependencies\n",
    "from azureml.core.compute import (AmlCompute, ComputeTarget)\n",
    "from azureml.exceptions import ComputeTargetException\n",
    "from azureml.data.data_reference import DataReference\n",
    "from azureml.pipeline.core import (Pipeline, \n",
    "                                   PipelineData)\n",
    "from azureml.pipeline.steps import (HyperDriveStep,PythonScriptStep)\n",
    "from azureml.train.dnn import PyTorch\n",
    "from azureml.train.hyperdrive import *\n",
    "from azureml.widgets import RunDetails\n",
    "\n",
    "\n",
    "print('SDK verison', VERSION)"
   ]
  },
  {
   "cell_type": "code",
   "execution_count": 2,
   "metadata": {},
   "outputs": [],
   "source": [
    "SUBSCRIPTION_ID = 'fe375bc2-9f1a-4909-ad0d-9319806d5e97'\n",
    "RESOURCE_GROUP = 'amlenv_rg'\n",
    "WORKSPACE_NAME = 'vienna'\n",
    "\n",
    "PROJECT_DIR = os.getcwd()\n",
    "EXPERIMENT_NAME = \"customer_churn\"\n",
    "CLUSTER_NAME = \"gpu-cluster\"\n",
    "DATA_DIR = os.path.join(PROJECT_DIR,'data')\n",
    "SCRIPT_DIR = os.path.join(PROJECT_DIR,'train')\n",
    "\n",
    "SOURCE_URL ='https://amlgitsamples.blob.core.windows.net/churn'\n",
    "FILE_NAME = 'CATelcoCustomerChurnTrainingSample.csv'"
   ]
  },
  {
   "cell_type": "code",
   "execution_count": 3,
   "metadata": {},
   "outputs": [
    {
     "name": "stdout",
     "output_type": "stream",
     "text": [
      "Workspace loaded: vienna\n"
     ]
    }
   ],
   "source": [
    "ws = Workspace(workspace_name = WORKSPACE_NAME,\n",
    "               subscription_id = SUBSCRIPTION_ID ,\n",
    "               resource_group = RESOURCE_GROUP)\n",
    "\n",
    "ws.write_config()\n",
    "\n",
    "print('Workspace loaded:', ws.name)"
   ]
  },
  {
   "cell_type": "code",
   "execution_count": 4,
   "metadata": {},
   "outputs": [
    {
     "data": {
      "text/plain": [
       "('/extdrive1/home/sasuke/dev/amlsamples/Customer_churn/data/CATelcoCustomerChurnTrainingSample.csv',\n",
       " <http.client.HTTPMessage at 0x7f1349711a58>)"
      ]
     },
     "execution_count": 4,
     "metadata": {},
     "output_type": "execute_result"
    }
   ],
   "source": [
    "os.makedirs(DATA_DIR, exist_ok=True)\n",
    "\n",
    "urllib.request.urlretrieve(os.path.join(SOURCE_URL,FILE_NAME), \n",
    "                           filename = os.path.join(DATA_DIR,FILE_NAME))"
   ]
  },
  {
   "cell_type": "code",
   "execution_count": 5,
   "metadata": {},
   "outputs": [
    {
     "name": "stdout",
     "output_type": "stream",
     "text": [
      "Uploading /extdrive1/home/sasuke/dev/amlsamples/Customer_churn/data/CATelcoCustomerChurnTrainingSample.csv\n",
      "Uploaded /extdrive1/home/sasuke/dev/amlsamples/Customer_churn/data/CATelcoCustomerChurnTrainingSample.csv, 1 files out of an estimated total of 1\n"
     ]
    },
    {
     "data": {
      "text/plain": [
       "$AZUREML_DATAREFERENCE_6d47d885c9c04471bb0715385999b37c"
      ]
     },
     "execution_count": 5,
     "metadata": {},
     "output_type": "execute_result"
    }
   ],
   "source": [
    "default_store = default_datastore=ws.datastores[\"workspaceblobstore\"]\n",
    "default_store.upload(src_dir=DATA_DIR, target_path='churn', overwrite=True, show_progress=True)"
   ]
  },
  {
   "cell_type": "code",
   "execution_count": 6,
   "metadata": {},
   "outputs": [
    {
     "name": "stdout",
     "output_type": "stream",
     "text": [
      "gpu-cluster found\n"
     ]
    }
   ],
   "source": [
    "cluster_name = \"gpu-cluster\"\n",
    "\n",
    "try:\n",
    "    cluster = ComputeTarget(ws, cluster_name)\n",
    "    print(cluster_name, \"found\")\n",
    "    \n",
    "except ComputeTargetException:\n",
    "    print(cluster_name, \"not found, provisioning....\")\n",
    "    provisioning_config = AmlCompute.provisioning_configuration(vm_size='STANDARD_NC6',max_nodes=1)\n",
    "\n",
    "    \n",
    "    cluster = ComputeTarget.create(ws, cluster_name, provisioning_config)\n",
    "    cluster.wait_for_completion(show_output=True)"
   ]
  },
  {
   "cell_type": "code",
   "execution_count": 7,
   "metadata": {},
   "outputs": [],
   "source": [
    "cd = CondaDependencies()\n",
    "cd.add_conda_package('pandas')\n",
    "cd.add_conda_package('matplotlib')\n",
    "cd.add_conda_package('numpy')\n",
    "cd.add_conda_package('scikit-learn')\n",
    "\n",
    "\n",
    "run_config = RunConfiguration(framework=\"python\",\n",
    "                              conda_dependencies= cd)\n",
    "run_config.target = cluster\n",
    "run_config.environment.docker.enabled = True\n",
    "run_config.environment.docker.base_image = DEFAULT_GPU_IMAGE\n",
    "run_config.environment.python.user_managed_dependencies = False"
   ]
  },
  {
   "cell_type": "code",
   "execution_count": 8,
   "metadata": {},
   "outputs": [],
   "source": [
    "estimator = PyTorch(source_directory=SCRIPT_DIR,\n",
    "                    conda_packages = ['pandas', 'numpy', 'scikit-learn'],\n",
    "                    pip_packages = ['gpytorch'],\n",
    "                    compute_target=cluster,\n",
    "                    entry_script='svdkl_entry.py',\n",
    "                    use_gpu=True)"
   ]
  },
  {
   "cell_type": "code",
   "execution_count": 9,
   "metadata": {},
   "outputs": [],
   "source": [
    "ps = RandomParameterSampling(\n",
    "    {\n",
    "        '--batch-size': choice(512, 1024),\n",
    "        '--epochs': choice(500),\n",
    "        '--neural-net-lr': loguniform(-6,-2),\n",
    "        '--likelihood-lr': loguniform(-6,-2),\n",
    "        '--grid-size': choice(32,64),\n",
    "        '--grid-bounds': choice(-1,0),\n",
    "        '--latent-dim': choice(2),\n",
    "        '--num-mixtures': choice(2,4,6,8)\n",
    "    }\n",
    ")\n",
    "\n",
    "early_termination_policy = BanditPolicy(evaluation_interval=10, slack_factor=0.1)\n",
    "\n",
    "hd_config = HyperDriveRunConfig(estimator=estimator, \n",
    "                                hyperparameter_sampling=ps,\n",
    "                                policy=early_termination_policy,\n",
    "                                primary_metric_name='auc', \n",
    "                                primary_metric_goal=PrimaryMetricGoal.MAXIMIZE, \n",
    "                                max_total_runs=200,\n",
    "                                max_concurrent_runs=10)"
   ]
  },
  {
   "cell_type": "code",
   "execution_count": 10,
   "metadata": {},
   "outputs": [],
   "source": [
    "input_dir = DataReference(datastore=default_store,\n",
    "                          data_reference_name=\"input_data\",\n",
    "                          path_on_datastore=\"churn\"\n",
    "                         )\n",
    "\n",
    "processed_dir = PipelineData(name = 'processed_data',\n",
    "                             datastore=default_store\n",
    "                            )"
   ]
  },
  {
   "cell_type": "code",
   "execution_count": 11,
   "metadata": {},
   "outputs": [],
   "source": [
    "pre_processing = PythonScriptStep(\n",
    "                            name = 'preprocess dataset',\n",
    "                            script_name = 'preprocess.py',\n",
    "                            arguments = ['--input_path', input_dir,\\\n",
    "                                         '--output_path', processed_dir],\n",
    "                            inputs = [input_dir],\n",
    "                            outputs = [processed_dir],\n",
    "                            compute_target = cluster_name,\n",
    "                            runconfig = run_config\n",
    "                        )\n",
    "\n",
    "hd_step = HyperDriveStep(\n",
    "    name=\"hyper parameters tunning\",\n",
    "    hyperdrive_run_config=hd_config,\n",
    "    estimator_entry_script_arguments=['--data-folder', processed_dir],\n",
    "    inputs=[processed_dir])"
   ]
  },
  {
   "cell_type": "code",
   "execution_count": 12,
   "metadata": {},
   "outputs": [
    {
     "name": "stdout",
     "output_type": "stream",
     "text": [
      "Created step hyper parameters tunning [097240ea][e55fbda4-a5cf-41c1-ba79-195dd6fe1cdd], (This step is eligible to reuse a previous run's output)\n",
      "Created step preprocess dataset [aead4ab0][263a9a66-b243-4104-a239-6515b1f2f9cb], (This step is eligible to reuse a previous run's output)\n",
      "Using data reference input_data for StepId [26e22a39][42a849d1-76be-4501-8196-ebeb90431857], (Consumers of this data are eligible to reuse prior runs.)\n",
      "Submitted pipeline run: cf188257-60b9-4c85-8a3b-7e72bfd8115f\n"
     ]
    }
   ],
   "source": [
    "pipeline = Pipeline(workspace=ws, steps=[hd_step],default_datastore=default_store)\n",
    "pipeline_run = Experiment(ws, 'Customer_churn').submit(pipeline)"
   ]
  },
  {
   "cell_type": "code",
   "execution_count": 13,
   "metadata": {
    "scrolled": false
   },
   "outputs": [
    {
     "data": {
      "application/vnd.jupyter.widget-view+json": {
       "model_id": "09679763483047f39535da5fa8ce59eb",
       "version_major": 2,
       "version_minor": 0
      },
      "text/plain": [
       "_PipelineWidget(widget_settings={'childWidgetDisplay': 'popup', 'send_telemetry': False, 'log_level': 'INFO', …"
      ]
     },
     "metadata": {},
     "output_type": "display_data"
    }
   ],
   "source": [
    "RunDetails(pipeline_run).show()"
   ]
  },
  {
   "cell_type": "code",
   "execution_count": 25,
   "metadata": {},
   "outputs": [],
   "source": [
    "pipeline_run.cancel()"
   ]
  },
  {
   "cell_type": "code",
   "execution_count": 42,
   "metadata": {},
   "outputs": [
    {
     "data": {
      "text/plain": [
       "'churn/CATelcoCustomerChurnTrainingSample.csv'"
      ]
     },
     "execution_count": 42,
     "metadata": {},
     "output_type": "execute_result"
    }
   ],
   "source": [
    "os.path.join('churn',FILE_NAME)"
   ]
  },
  {
   "cell_type": "code",
   "execution_count": 60,
   "metadata": {},
   "outputs": [],
   "source": [
    "def mychoice(*options):\n",
    "    \"\"\"Specify a discrete set of options to sample from.\n",
    "\n",
    "    :param options: The list of options to choose from.\n",
    "    :type options: list\n",
    "    :return: The stochastic expression.\n",
    "    :rtype: list\n",
    "    \"\"\"\n",
    "    if len(options) == 0:\n",
    "        raise AzureMLException(\"Please specify an input for choice.\")\n",
    "\n",
    "    error_msg = \"Choice only accepts single list, single range() or any number of arbitrary comma separated inputs.\"\n",
    "    for item in options:\n",
    "        if isinstance(item, range):\n",
    "            if len(options) > 1 or not item:\n",
    "                raise AzureMLException(error_msg)\n",
    "            return [\"choice\", [list(item)]]\n",
    "        if isinstance(item, list):\n",
    "            if len(options) > 1:\n",
    "                raise AzureMLException(error_msg)\n",
    "            return [\"choice\", [item]]\n",
    "\n",
    "    return [\"choice\", [list(options)]]"
   ]
  },
  {
   "cell_type": "code",
   "execution_count": 62,
   "metadata": {},
   "outputs": [
    {
     "data": {
      "text/plain": [
       "['choice', [[(-1, 1), (0, 1)]]]"
      ]
     },
     "execution_count": 62,
     "metadata": {},
     "output_type": "execute_result"
    }
   ],
   "source": [
    "mychoice((-1,1),(0,1))\n"
   ]
  },
  {
   "cell_type": "code",
   "execution_count": 65,
   "metadata": {},
   "outputs": [],
   "source": [
    "ps2 = RandomParameterSampling(\n",
    "    {'test':choice((-1,1),(0,1))})\n"
   ]
  },
  {
   "cell_type": "code",
   "execution_count": 66,
   "metadata": {},
   "outputs": [
    {
     "data": {
      "text/plain": [
       "<azureml.train.hyperdrive.sampling.RandomParameterSampling at 0x7fe42c00db00>"
      ]
     },
     "execution_count": 66,
     "metadata": {},
     "output_type": "execute_result"
    }
   ],
   "source": [
    "ps2"
   ]
  },
  {
   "cell_type": "code",
   "execution_count": 68,
   "metadata": {},
   "outputs": [
    {
     "data": {
      "text/plain": [
       "'RANDOM'"
      ]
     },
     "execution_count": 68,
     "metadata": {},
     "output_type": "execute_result"
    }
   ],
   "source": [
    "ps2.SAMPLING_NAME"
   ]
  },
  {
   "cell_type": "code",
   "execution_count": null,
   "metadata": {},
   "outputs": [],
   "source": []
  }
 ],
 "metadata": {
  "kernelspec": {
   "display_name": "Python [conda env:amlenv]",
   "language": "python",
   "name": "conda-env-amlenv-py"
  },
  "language_info": {
   "codemirror_mode": {
    "name": "ipython",
    "version": 3
   },
   "file_extension": ".py",
   "mimetype": "text/x-python",
   "name": "python",
   "nbconvert_exporter": "python",
   "pygments_lexer": "ipython3",
   "version": "3.6.7"
  }
 },
 "nbformat": 4,
 "nbformat_minor": 2
}
