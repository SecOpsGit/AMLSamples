{
 "cells": [
  {
   "cell_type": "markdown",
   "metadata": {},
   "source": [
    "\n",
    "\n",
    "\n",
    "This sample show how to train end to end pipeline using Vienna python SDK and pytorch.\n",
    "\n",
    "Training is performed on GPU based DSVM, and inference through Azure container instance\n",
    "\n",
    "Feel free to swap training compute as the MNIST dataset is used, you can run on CPU with reasonable performance"
   ]
  },
  {
   "cell_type": "code",
   "execution_count": 5,
   "metadata": {},
   "outputs": [
    {
     "name": "stdout",
     "output_type": "stream",
     "text": [
      "The autoreload extension is already loaded. To reload it, use:\n",
      "  %reload_ext autoreload\n",
      "AML SDK version : 0.1.0.1095338\n"
     ]
    }
   ],
   "source": [
    "import os\n",
    "import json\n",
    "import time\n",
    "import shutil\n",
    "import numpy as np\n",
    "\n",
    "\n",
    "\n",
    "import azureml.core\n",
    "from azureml.core.workspace import Workspace\n",
    "from azureml.core.project import Project\n",
    "from azureml.core.run import Run\n",
    "from azureml.core.model import Model\n",
    "from azureml.core.image import Image\n",
    "from azureml.core.webservice import AciWebservice, Webservice\n",
    "from azureml.exceptions.azureml_exception import UserErrorException\n",
    "from azureml.core.compute_target import RemoteTarget\n",
    "from azureml.core.runconfig import RunConfiguration\n",
    "from azureml.core.conda_dependencies import CondaDependencies\n",
    "from azureml.contrib.widgets import RunDetails\n",
    "import helpers\n",
    "\n",
    "import torch\n",
    "from torchvision import datasets, transforms, utils\n",
    "from torch.utils.data import DataLoader\n",
    "from torch.utils.data.sampler import SubsetRandomSampler\n",
    "\n",
    "import matplotlib.pyplot as plt\n",
    "%matplotlib inline\n",
    "\n",
    "%load_ext autoreload\n",
    "%autoreload 2\n",
    "print(\"AML SDK version :\",azureml.core.VERSION)"
   ]
  },
  {
   "cell_type": "markdown",
   "metadata": {},
   "source": [
    "Modify variables accordingly except for **location** until GA"
   ]
  },
  {
   "cell_type": "code",
   "execution_count": 31,
   "metadata": {},
   "outputs": [],
   "source": [
    "subscription_id = \"\"\n",
    "resource_group = \"\"\n",
    "workspace_name = \"\"\n",
    "location = 'eastus2'\n",
    "\n",
    "project_folder = 'c'\n",
    "project_name = \"mnist_cnn\"\n",
    "history_name = project_name + '_history'\n",
    "\n",
    "dockerrun = False"
   ]
  },
  {
   "cell_type": "code",
   "execution_count": 32,
   "metadata": {},
   "outputs": [
    {
     "name": "stdout",
     "output_type": "stream",
     "text": [
      "workspace name: vnext_workspace\n",
      "project directory:  c:\\sources\\vienna_samples\\mnist-cnn\n",
      "project history:  mnist_cnn_history\n"
     ]
    }
   ],
   "source": [
    "ws = Workspace.get_or_create(name = workspace_name,\n",
    "                      subscription_id = subscription_id,\n",
    "                      resource_group = resource_group, \n",
    "                      location = location)\n",
    "project = Project.attach(ws, history_name, project_folder)\n",
    "\n",
    "\n",
    "project_folder = project.project_directory\n",
    "print(\"workspace name:\",ws.name)\n",
    "print(\"project directory: \", project.project_directory)\n",
    "print(\"project history: \", project.history.name)"
   ]
  },
  {
   "cell_type": "code",
   "execution_count": 33,
   "metadata": {},
   "outputs": [
    {
     "name": "stdout",
     "output_type": "stream",
     "text": [
      "Writing c:\\sources\\vienna_samples\\mnist-cnn/network.py\n"
     ]
    }
   ],
   "source": [
    "%%writefile $project_folder/network.py\n",
    "\n",
    "import os \n",
    "from azureml.core.run import Run\n",
    "import torch\n",
    "import torch.nn as nn\n",
    "import torch.nn.functional as F\n",
    "\n",
    "\n",
    "##### network definition input->conv->maxpool->conv->maxpool->fc->softmax\n",
    "\n",
    "class ConvNet(torch.nn.Module):\n",
    "\n",
    "    def __init__(self):\n",
    "        super(ConvNet, self).__init__()\n",
    "        \n",
    "        kernel_shape=(2, 2)\n",
    "        stride=(2, 2)\n",
    "        padding=0\n",
    "        self.fc_neurons = 392\n",
    "        num_labels = 10\n",
    "        \n",
    "        self.conv1 = nn.Conv2d(in_channels=1, out_channels=4,\n",
    "                               kernel_size=(3, 3),stride=(1, 1),\n",
    "                               padding=1)\n",
    "        self.pool1 = nn.MaxPool2d(kernel_shape,stride, padding)\n",
    "        \n",
    "        self.conv2 = nn.Conv2d(in_channels=4, out_channels=8,\n",
    "                               kernel_size=(3, 3),stride=(1, 1),\n",
    "                               padding=1)\n",
    "        self.pool2 = nn.MaxPool2d(kernel_shape,stride, padding)\n",
    "        \n",
    "        self.fc1 = nn.Linear(self.fc_neurons, num_labels)\n",
    "        \n",
    "    def forward(self, X):\n",
    "        out = F.relu(self.pool1(self.conv1(X)))\n",
    "        out = F.relu(self.pool2(self.conv2(out)))\n",
    "        \n",
    "        out = out.view(-1, self.fc_neurons)\n",
    "        y_pred = self.fc1(out)\n",
    "        \n",
    "        return y_pred \n",
    "        \n",
    "    \n",
    "##### end of network definition"
   ]
  },
  {
   "cell_type": "code",
   "execution_count": 34,
   "metadata": {},
   "outputs": [
    {
     "name": "stdout",
     "output_type": "stream",
     "text": [
      "Writing c:\\sources\\vienna_samples\\mnist-cnn/train.py\n"
     ]
    }
   ],
   "source": [
    "%%writefile $project_folder/train.py\n",
    "\n",
    "import os \n",
    "import shutil\n",
    "\n",
    "from azureml.core.run import Run\n",
    "from azureml.core.model import Model\n",
    "\n",
    "import torch\n",
    "import torch.nn as nn\n",
    "import torch.nn.functional as F\n",
    "from torch.optim import Adam\n",
    "from torchvision import datasets, transforms\n",
    "from torch.utils.data import DataLoader\n",
    "\n",
    "from network import ConvNet\n",
    "\n",
    "\n",
    "class learner():\n",
    "    \n",
    "    def __init__(self, train_data, run):\n",
    "        batch_size = 32\n",
    "        self.num_epochs = 10\n",
    "        \n",
    "        self.device = torch.device(\"cuda:0\" if torch.cuda.is_available() else \"cpu\")\n",
    "        num_gpus = torch.cuda.device_count()\n",
    "        print('Training on {} \\nFound {} CUDA Devices'\\\n",
    "                  .format(self.device, num_gpus))\n",
    "        \n",
    "        ''' breaks inference on ACI for now\n",
    "        if num_gpus > 1: \n",
    "            self.model = nn.DataParallel(self.model)'''\n",
    "\n",
    "        self.loader = DataLoader(dataset=train_data, \n",
    "                                  batch_size=batch_size, \n",
    "                                  shuffle=True)\n",
    "        \n",
    "        \n",
    "        self.model = ConvNet().to(self.device)\n",
    "        print(self.model)\n",
    "        \n",
    "        self.criterion = nn.CrossEntropyLoss().to(self.device)  \n",
    "        self.optimizer = Adam(self.model.parameters(), lr=1e-5)\n",
    "        \n",
    "        self.run = run \n",
    "    \n",
    "    def train(self):\n",
    "        model = self.model.train()\n",
    "        for epoch in range(self.num_epochs):\n",
    "            for batch_idx, (X, y) in enumerate(self.loader):\n",
    "                X = X.to(self.device)\n",
    "                y = y.to(self.device)\n",
    "                \n",
    "                y_pred = model(X)\n",
    "                \n",
    "                loss = self.criterion(y_pred, y)\n",
    "                self.optimizer.zero_grad()\n",
    "                loss.backward() \n",
    "                self.optimizer.step()\n",
    "                \n",
    "                _, argmax = torch.max(y_pred, 1)\n",
    "                accuracy = (y == argmax.squeeze()).float().mean()\n",
    "                \n",
    "                if not batch_idx % 1000:\n",
    "                    \n",
    "                    self.run.log(\"loss\", loss.item())\n",
    "                    self.run.log(\"accuracy\", accuracy.item())\n",
    "                    print ('epoch [{}/{}], loss: {:.4f}, accuracy: {:.2f}' \n",
    "                           .format(epoch+1, self.num_epochs, loss.item(), accuracy.item()))\n",
    "            \n",
    "        return model\n",
    "            \n",
    "\n",
    "    \n",
    "def train_network():\n",
    "    torch.manual_seed(123)\n",
    "    print(\"Pytorch version\", torch.__version__)\n",
    "    \n",
    "    train_directory = 'mnist_dataset'\n",
    "    model_path = 'mnist_model.pth'\n",
    "    model_name = 'mnist-model'\n",
    "    \n",
    "    mnist_mean = 0.1307\n",
    "    mnist_std = 0.3081\n",
    "    \n",
    "    do_download = False \n",
    "    \n",
    "    if not os.path.isdir(train_directory):\n",
    "        os.mkdir(train_directory)\n",
    "        do_download = True\n",
    "        \n",
    "        \n",
    "    train_dataset = datasets.MNIST(root= train_directory,train=True, \n",
    "                               transform=transforms.Compose([\n",
    "                                           transforms.ToTensor(),\n",
    "                                           transforms.Normalize((mnist_mean,), (mnist_std,))\n",
    "                               ]),download=do_download)\n",
    "    \n",
    "    run =  Run.get_submitted_run()\n",
    "    \n",
    "    network = learner(train_dataset, run)\n",
    "    model = network.train()\n",
    "    \n",
    "    print(\"Model saved to\", model_path)\n",
    "    torch.save(model.state_dict(), model_path)\n",
    "    \n",
    "    run.upload_file(name = \"outputs/\" + model_path,\n",
    "                    path_or_stream = model_path)\n",
    "    model = run.register_model(model_name = model_name,\n",
    "                       model_path = \"outputs/\" + model_path)\n",
    "    print(\"Model registered as :\" ,model.id)\n",
    "    \n",
    "    try:\n",
    "        shutil.rmtree(train_directory)\n",
    "    except OSError as e:\n",
    "        print (\"Error: %s.\" % (e.strerror))\n",
    "\n",
    "train_network()"
   ]
  },
  {
   "cell_type": "markdown",
   "metadata": {},
   "source": [
    "<br>\n",
    "## Attach DSVM compute to project\n",
    "\n",
    "\n",
    "Modify your Azure DSVM information accordingly"
   ]
  },
  {
   "cell_type": "code",
   "execution_count": 35,
   "metadata": {},
   "outputs": [],
   "source": [
    "dsvm_compute = RemoteTarget(name = \"gpu-dsvm\", \n",
    "                            address = \"192.168.1.28:22\", \n",
    "                            username = \"user\", \n",
    "                            password = \"xxxx\")\n",
    "try:\n",
    "    # Attaches a DSVM as a compute target.\n",
    "    project.attach_legacy_compute_target(dsvm_compute)\n",
    "except UserErrorException as e:\n",
    "    print(\"Caught = {}\".format(e.message))\n",
    "    print(\"Compute config already attached.\")"
   ]
  },
  {
   "cell_type": "markdown",
   "metadata": {},
   "source": [
    "<br>\n",
    "## Configure run on DSVM\n",
    "\n",
    "\n",
    "If run is executed on DSVM environment, make sure dependecies are installed in the environment"
   ]
  },
  {
   "cell_type": "code",
   "execution_count": 36,
   "metadata": {},
   "outputs": [
    {
     "name": "stdout",
     "output_type": "stream",
     "text": [
      "Configuring local run on remote compute...\n"
     ]
    }
   ],
   "source": [
    "run_config = RunConfiguration.load(project_object = project, run_config_name =  \"gpu-dsvm\")\n",
    "\n",
    "if not dockerrun:\n",
    "    \n",
    "    print(\"Configuring local run on remote compute...\")\n",
    "    run_config.environment.python.interpreter_path = '/anaconda/envs/py35/bin/python'\n",
    "    run_config.environment.python.user_managed_dependencies = True\n",
    "else:\n",
    "    \n",
    "    print(\"Configuring docker  run on remote compute...\")\n",
    "    run_config.environment.docker.enabled = True\n",
    "    run_config.environment.docker.base_image = \"pytorch/pytorch:0.4_cuda9_cudnn7\"\n",
    "    print('Base Docker image is:', run_config.environment.docker.base_image )\n",
    "\n",
    "    # Ask system to provision a new one based on the conda_dependencies.yml file\n",
    "    run_config.environment.python.user_managed_dependencies = False\n",
    "    run_config.prepare_environment = True\n",
    "\n",
    "    # create a new CondaDependencies obj\n",
    "    cd = CondaDependencies()\n",
    "\n",
    "    # add pytorch as a conda dependency\n",
    "    cd.add_channel('pytorch')\n",
    "    cd.add_conda_package('pytorch')\n",
    "    cd.add_conda_package('torchvision')\n",
    "\n",
    "    cd.save_to_file(project_dir = project_folder, file_name='conda_dependencies.yml')\n"
   ]
  },
  {
   "cell_type": "markdown",
   "metadata": {},
   "source": [
    "## Train model"
   ]
  },
  {
   "cell_type": "code",
   "execution_count": 37,
   "metadata": {
    "scrolled": false
   },
   "outputs": [
    {
     "name": "stderr",
     "output_type": "stream",
     "text": [
      "WARNING:azureml._run_impl.run_base.mnist_cnn_history_1531380996350:Return type is deprecated, the updated return type will mirror get_details\n"
     ]
    },
    {
     "data": {
      "application/vnd.jupyter.widget-view+json": {
       "model_id": "eaf35ab994cc4c048af5d7f66d500206",
       "version_major": 2,
       "version_minor": 0
      },
      "text/plain": [
       "UserRun()"
      ]
     },
     "metadata": {},
     "output_type": "display_data"
    },
    {
     "name": "stdout",
     "output_type": "stream",
     "text": [
      "Wall time: 3min 48s\n"
     ]
    }
   ],
   "source": [
    "%%time \n",
    "run = Run.submit(project_object = project,\n",
    "                 run_config = run_config,\n",
    "                 script_to_run = 'train.py')\n",
    "\n",
    "run.wait_for_completion(show_output = False)\n",
    "RunDetails(run).show()"
   ]
  },
  {
   "cell_type": "markdown",
   "metadata": {},
   "source": [
    "\n",
    "\n",
    "# Operationalize model\n",
    "\n",
    "This is done in 2 steps:\n",
    "\n",
    "- Images preparation\n",
    "- Deploy image to ACI for serving\n",
    "\n"
   ]
  },
  {
   "cell_type": "markdown",
   "metadata": {},
   "source": [
    "\n",
    "\n",
    "## Image preparation\n",
    "\n",
    "We carried this through:\n",
    "\n",
    "- creation of score script\n",
    "- creation of YML file to include required packages for image creation"
   ]
  },
  {
   "cell_type": "code",
   "execution_count": 60,
   "metadata": {},
   "outputs": [
    {
     "name": "stdout",
     "output_type": "stream",
     "text": [
      "Overwriting c:\\sources\\vienna_samples\\mnist-cnn/score.py\n"
     ]
    }
   ],
   "source": [
    "%%writefile $project_folder/score.py\n",
    "\n",
    "import os\n",
    "import sys\n",
    "import json\n",
    "import numpy as np\n",
    "import torch\n",
    "import torch.nn as nn\n",
    "from network import ConvNet\n",
    "\n",
    "from azureml.core.model import Model\n",
    "from azureml.core.run import Run\n",
    "\n",
    "\n",
    "sys.path.append(os.path.dirname(__file__))\n",
    "\n",
    "def init():\n",
    "    \n",
    "    global model\n",
    "    \n",
    "    model_name = 'mnist-model'\n",
    "    version = 1\n",
    "    model_path = Model.get_model_path(model_name = model_name)\n",
    "    print(\"model loaded from \",model_path)\n",
    "    model = ConvNet()\n",
    "    model.load_state_dict(torch.load(model_path, map_location='cpu'))\n",
    "\n",
    "\n",
    "def run(image):\n",
    "    try:\n",
    "        data = json.loads(image)['image']\n",
    "        data = torch.from_numpy(np.array(data)).type(torch.FloatTensor)\n",
    "        data = data.unsqueeze(0)\n",
    "        \n",
    "        result = model(data)\n",
    "        _, y_pred = torch.max(result, dim = 1)\n",
    "        \n",
    "        return json.dumps({\"predicted\": y_pred.numpy().tolist()})\n",
    "    except Exception as e:\n",
    "        result = str(e)\n",
    "        return json.dumps({\"error\": result})"
   ]
  },
  {
   "cell_type": "code",
   "execution_count": 61,
   "metadata": {},
   "outputs": [
    {
     "name": "stdout",
     "output_type": "stream",
     "text": [
      "Overwriting c:\\sources\\vienna_samples\\mnist-cnn/pytorch-env.yml\n"
     ]
    }
   ],
   "source": [
    "%%writefile $project_folder/pytorch-env.yml\n",
    "name: pytorch-env\n",
    "channels:\n",
    "  - pytorch\n",
    "  - conda-forge\n",
    "\n",
    "\n",
    "dependencies:\n",
    "  - python=3.5.2\n",
    "  - pytorch==0.4.0\n",
    "  - torchvision\n",
    "  - cuda90 \n",
    "  \n",
    "  - pip:\n",
    "    - --index-url https://azuremlsdktestpypi.azureedge.net/sdk-release/Preview/E7501C02541B433786111FE8E140CAA1\n",
    "    - --extra-index-url https://pypi.python.org/simple\n",
    "    - azureml-defaults\n",
    "    - scikit-learn>=0.19.1"
   ]
  },
  {
   "cell_type": "markdown",
   "metadata": {},
   "source": [
    "\n",
    "\n",
    "## Deploy Webservice to ACI\n",
    "\n",
    "This will take a while...."
   ]
  },
  {
   "cell_type": "code",
   "execution_count": 62,
   "metadata": {},
   "outputs": [
    {
     "name": "stdout",
     "output_type": "stream",
     "text": [
      "mnist-model:16 2018-07-12 07:39:51.256216+00:00 aml://asset/49b97a2026e441ebb4b279e0147401cd\n",
      "Creating image\n",
      "Image creation operation finished for image torched6:1, operation \"Succeeded\"\n",
      "Creating service\n",
      "Running...............................................................................................................\n",
      "TimedOutACI service creation operation finished, operation \"TimedOut\"\n",
      "Transitioning\n",
      "Wall time: 23min 8s\n"
     ]
    }
   ],
   "source": [
    "%%time\n",
    "aci_config = AciWebservice.deploy_configuration(cpu_cores = 2, \n",
    "                                               memory_gb = 4, \n",
    "                                               tags = ['demo'], \n",
    "                                               description = 'Vienna ACI')\n",
    "\n",
    "models = ws.models('mnist-model')\n",
    "model = max(models, key = lambda model: model.version) if len(models) > 1 else models[0]\n",
    "print(model.id, model.created_time, model.url)       \n",
    "\n",
    "#prod end point torched\n",
    "aci_service_name = 'torched6'\n",
    "aci_service = Webservice.deploy_from_model(deployment_config = aci_config,\n",
    "                                           models = [model],\n",
    "                                           name = aci_service_name,\n",
    "                                           workspace = ws,\n",
    "                                           execution_script = 'score.py',\n",
    "                                           conda_file = \"pytorch-env.yml\",\n",
    "                                           dependencies=['network.py'],\n",
    "                                           runtime =\"python\")\n",
    "aci_service.wait_for_deployment(True)\n",
    "print(aci_service.state)"
   ]
  },
  {
   "cell_type": "markdown",
   "metadata": {},
   "source": [
    "## Prepare test dataset for inference"
   ]
  },
  {
   "cell_type": "code",
   "execution_count": 41,
   "metadata": {},
   "outputs": [
    {
     "name": "stdout",
     "output_type": "stream",
     "text": [
      "False\n",
      "Downloading http://yann.lecun.com/exdb/mnist/train-images-idx3-ubyte.gz\n",
      "Downloading http://yann.lecun.com/exdb/mnist/train-labels-idx1-ubyte.gz\n",
      "Downloading http://yann.lecun.com/exdb/mnist/t10k-images-idx3-ubyte.gz\n",
      "Downloading http://yann.lecun.com/exdb/mnist/t10k-labels-idx1-ubyte.gz\n",
      "Processing...\n",
      "Done!\n"
     ]
    }
   ],
   "source": [
    "test_directory = \"test_images\"\n",
    "\n",
    "do_download = False\n",
    "if not os.path.isdir(test_directory):\n",
    "    os.mkdir(test_directory)\n",
    "    do_download = True\n",
    "    \n",
    "\n",
    "mnist_mean = 0.1307\n",
    "mnist_std = 0.3081\n",
    "mnist_test = datasets.MNIST(root=test_directory,train=False, \n",
    "                               transform=transforms.Compose([\n",
    "                                           transforms.ToTensor(),\n",
    "                                           transforms.Normalize((mnist_mean,), (mnist_std,))]),\n",
    "                               download=do_download)\n",
    "\n",
    "num_indices = 24\n",
    "indices = np.random.randint(0,mnist_test.test_data.shape[0],num_indices)\n",
    "images_loader = DataLoader(mnist_test,batch_size=num_indices,\n",
    "                          sampler=SubsetRandomSampler(indices))\n",
    "\n",
    "\n",
    "\n",
    "def imshow(img):\n",
    "    plt.imshow(np.transpose(img.numpy(), (1, 2, 0))) # channel last"
   ]
  },
  {
   "cell_type": "markdown",
   "metadata": {},
   "source": [
    "## Run inference on model"
   ]
  },
  {
   "cell_type": "code",
   "execution_count": 66,
   "metadata": {},
   "outputs": [
    {
     "name": "stdout",
     "output_type": "stream",
     "text": [
      "Healthy\n",
      "End point: torched6, serving on http://40.121.36.5:5001/score\n"
     ]
    },
    {
     "name": "stderr",
     "output_type": "stream",
     "text": [
      "WARNING:matplotlib.image:Clipping input data to the valid range for imshow with RGB data ([0..1] for floats or [0..255] for integers).\n"
     ]
    },
    {
     "name": "stdout",
     "output_type": "stream",
     "text": [
      "predicted [[9], [6], [1], [9], [9], [2], [3], [3], [5], [3], [3], [0], [0], [9], [7], [1], [9], [8], [1], [2], [6], [3], [1], [2]]\n"
     ]
    },
    {
     "data": {
      "image/png": "[encoded data removed]",
      "text/plain": [
       "<Figure size 432x288 with 1 Axes>"
      ]
     },
     "metadata": {},
     "output_type": "display_data"
    }
   ],
   "source": [
    "'''\n",
    "     for now we get new reference to ACI due to transient timeout \n",
    "    deploy_from_model return aci reference with corrupted state\n",
    " \n",
    " '''\n",
    "\n",
    "print(aci_service.state)\n",
    "if aci_service is not 'Healthy':\n",
    "    aci_service = AciWebservice(name=aci_service_name,workspace=ws)\n",
    "    \n",
    "print('End point: {}, serving on {}' \n",
    "        .format(aci_service_name, aci_service.scoring_uri))\n",
    "      \n",
    "\n",
    "predictions = []\n",
    "images_iter = iter(images_loader)\n",
    "images,_ = images_iter.next()\n",
    "\n",
    "for test_img in images:\n",
    "    np_img = test_img.numpy()\n",
    "    test_input = json.dumps({'image':np_img.tolist()})\n",
    "    output = json.loads(aci_service.run(test_input))\n",
    "    predictions.append(output['predicted'])\n",
    "    \n",
    "    \n",
    "print(\"predicted\", predictions)\n",
    "imshow(utils.make_grid(images))"
   ]
  },
  {
   "cell_type": "markdown",
   "metadata": {},
   "source": [
    "## Clean up"
   ]
  },
  {
   "cell_type": "code",
   "execution_count": 67,
   "metadata": {},
   "outputs": [],
   "source": [
    "if aci_service:\n",
    "    aci_service.delete()\n",
    "\n",
    "try:\n",
    "    shutil.rmtree(test_directory)\n",
    "except OSError as e:\n",
    "    print (\"Error: %s.\" % (e.strerror))"
   ]
  },
  {
   "cell_type": "code",
   "execution_count": null,
   "metadata": {},
   "outputs": [],
   "source": []
  }
 ],
 "metadata": {
  "kernelspec": {
   "display_name": "Python [conda env:vienna]",
   "language": "python",
   "name": "conda-env-vienna-py"
  },
  "language_info": {
   "codemirror_mode": {
    "name": "ipython",
    "version": 3
   },
   "file_extension": ".py",
   "mimetype": "text/x-python",
   "name": "python",
   "nbconvert_exporter": "python",
   "pygments_lexer": "ipython3",
   "version": "3.5.5"
  }
 },
 "nbformat": 4,
 "nbformat_minor": 2
}
