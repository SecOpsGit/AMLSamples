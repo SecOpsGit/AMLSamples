{
 "cells": [
  {
   "cell_type": "markdown",
   "metadata": {
    "collapsed": true
   },
   "source": [
    "# Step 2: Model Building & Evaluation\n",
    "Using the training and test data sets we constructed in the `Code/1_data_ingestion_and_preparation.ipynb` Jupyter notebook, this notebook builds a LSTM network for scenerio described at [Predictive Maintenance Template](https://gallery.cortanaintelligence.com/Collection/Predictive-Maintenance-Template-3) to predict failure in aircraft engines. We will store the model for deployment in an Azure web service which we build in the `Code/3_operationalization.ipynb` Jupyter notebook."
   ]
  },
  {
   "cell_type": "code",
   "execution_count": 1,
   "metadata": {},
   "outputs": [
    {
     "name": "stdout",
     "output_type": "stream",
     "text": [
      "SDK verison 1.0.6\n"
     ]
    }
   ],
   "source": [
    "%load_ext autoreload\n",
    "%autoreload 2\n",
    "\n",
    "from azureml.core import  (Workspace,Run,VERSION,\n",
    "                           Experiment,Datastore)\n",
    "from azureml.core.compute import (AmlCompute, ComputeTarget)\n",
    "from azureml.exceptions import ComputeTargetException\n",
    "\n",
    "from azureml.train.dnn import PyTorch\n",
    "from azureml.train.hyperdrive import *\n",
    "from azureml.widgets import RunDetails\n",
    "\n",
    "from azureml.core.image import ContainerImage\n",
    "from azureml.core.webservice import (AciWebservice,Webservice)\n",
    "\n",
    "\n",
    "import os\n",
    "import json\n",
    "import numpy as np\n",
    "import pandas as pd\n",
    "from math import exp\n",
    "from utils import to_tensors\n",
    "from sklearn.metrics import (precision_score,recall_score,f1_score)\n",
    "\n",
    "\n",
    "print('SDK verison', VERSION)\n",
    "\n",
    "PROJECT_DIR = os.getcwd()\n",
    "TRAINING_DIR = os.path.join(PROJECT_DIR, 'train')\n",
    "SCORING_DIR = os.path.join(PROJECT_DIR, 'score')\n",
    "EXPERIMENT_NAME = \"deep_pred\""
   ]
  },
  {
   "cell_type": "markdown",
   "metadata": {},
   "source": [
    "## Azure ML workspace"
   ]
  },
  {
   "cell_type": "code",
   "execution_count": 2,
   "metadata": {},
   "outputs": [
    {
     "name": "stdout",
     "output_type": "stream",
     "text": [
      "Found the config file in: /home/sasuke/dev/amlsamples/deep_predictive_maintenance/aml_config/config.json\n",
      "Workspace loaded: vienna\n"
     ]
    }
   ],
   "source": [
    "ws = Workspace.from_config()\n",
    "print('Workspace loaded:', ws.name)\n",
    "\n",
    "experiment = Experiment(workspace=ws, name=EXPERIMENT_NAME)"
   ]
  },
  {
   "cell_type": "markdown",
   "metadata": {},
   "source": [
    "## Data store\n",
    "\n",
    "We have previously created the labeled data set in the `Code\\1_Data Ingestion and Preparation.ipynb` Jupyter notebook and stored it in default data store of the AML workspace.\n",
    "\n",
    "Here, we call path method that returns an instance to [data reference](https://docs.microsoft.com/en-us/python/api/azureml-core/azureml.data.data_reference.datareference?view=azure-ml-py) which  will be passed to the training script during the run execution."
   ]
  },
  {
   "cell_type": "code",
   "execution_count": 3,
   "metadata": {},
   "outputs": [
    {
     "name": "stdout",
     "output_type": "stream",
     "text": [
      "$AZUREML_DATAREFERENCE_0377f2b86ee7490e97a156f98461072b\n"
     ]
    }
   ],
   "source": [
    "ds = Datastore.get(ws,'workspaceblobstore')\n",
    "data_path = \"data\"\n",
    "ds_path = ds.path(data_path)\n",
    "print(ds_path)"
   ]
  },
  {
   "cell_type": "markdown",
   "metadata": {},
   "source": [
    "## Compute target\n",
    "\n",
    "Here, we provision the AML Compute that will be used to execute training script"
   ]
  },
  {
   "cell_type": "code",
   "execution_count": 4,
   "metadata": {},
   "outputs": [
    {
     "name": "stdout",
     "output_type": "stream",
     "text": [
      "Found existing compute target.\n"
     ]
    }
   ],
   "source": [
    "os.makedirs(TRAINING_DIR, exist_ok=True)\n",
    "\n",
    "# choose a name for your cluster\n",
    "CLUSTER_NAME = \"gpu-cluster\"\n",
    "\n",
    "try:\n",
    "    compute_target = ComputeTarget(workspace=ws, name=CLUSTER_NAME)\n",
    "    print('Found existing compute target.')\n",
    "except ComputeTargetException:\n",
    "    print('Creating a new compute target...')\n",
    "    compute_config = AmlCompute.provisioning_configuration(vm_size='STANDARD_NC6',\n",
    "                                                           max_nodes=6)\n",
    "\n",
    "    # create the cluster\n",
    "    compute_target = ComputeTarget.create(ws, CLUSTER_NAME, compute_config)\n",
    "\n",
    "    compute_target.wait_for_completion(show_output=True)"
   ]
  },
  {
   "cell_type": "markdown",
   "metadata": {},
   "source": [
    "## Modeling\n",
    "\n",
    "The traditional predictive maintenance machine learning models are based on feature engineering, the manual construction of variable using domain expertise and intuition. This usually makes these models hard to reuse as the feature are specific to the problem scenario and the available data may vary between customers. Perhaps the most attractive advantage of deep learning they automatically do feature engineering from the data, eliminating the need for the manual feature engineering step.\n",
    "\n",
    "When using LSTMs in the time-series domain, one important parameter is the sequence length, the window to examine for failure signal. This may be viewed as picking a `window_size` (i.e. 5 cycles) for calculating the rolling features in the [Predictive Maintenance Template](https://gallery.cortanaintelligence.com/Collection/Predictive-Maintenance-Template-3). The rolling features included rolling mean and rolling standard deviation over the 5 cycles for each of the 21 sensor values. In deep learning, we allow the LSTMs to extract abstract features out of the sequence of sensor values within the window. The expectation is that patterns within these sensor values will be automatically encoded by the LSTM.\n",
    "\n",
    "Another critical advantage of LSTMs is their ability to remember from long-term sequences (window sizes) which is hard to achieve by traditional feature engineering. Computing rolling averages over a window size of 50 cycles may lead to loss of information due to smoothing over such a long period. LSTMs are able to use larger window sizes and use all the information in the window as input. \n",
    "\n",
    "http://colah.github.io/posts/2015-08-Understanding-LSTMs/ contains more information on the details of LSTM networks.\n",
    "\n",
    "This sample illustrates the LSTM approach to binary classification using a sequence_length of 50 cycles to predict the probability of engine failure within 30 days."
   ]
  },
  {
   "cell_type": "markdown",
   "metadata": {},
   "source": [
    "##  Implementation and hyperparameters tuning\n",
    "\n",
    "Building a Neural Net requires determining the network architecture. In this scenario we will build an LSTM network using Pytorch [estimator](https://docs.microsoft.com/en-us/azure/machine-learning/service/how-to-train-pytorch).\n",
    "\n",
    "The hyperparameters tunning of the network is achieved using [Hyperdrive](https://docs.microsoft.com/en-us/azure/machine-learning/service/how-to-tune-hyperparameters)\n",
    "\n",
    "In the train directory, the listed below files are used as follow:\n",
    "\n",
    " - Utils.py: contains data preparation to read csv files and transform them into lstm ready 3D tensors.\n",
    " - network.py: contains LSTM network definition\n",
    " - train.py: training and evaluation code\n",
    " - entry.py: train and save model to storage"
   ]
  },
  {
   "cell_type": "code",
   "execution_count": 5,
   "metadata": {
    "code_folding": [
     0
    ]
   },
   "outputs": [
    {
     "name": "stdout",
     "output_type": "stream",
     "text": [
      "Overwriting /home/sasuke/dev/amlsamples/deep_predictive_maintenance/train/network.py\n"
     ]
    }
   ],
   "source": [
    "%%writefile $TRAINING_DIR/network.py\n",
    "\n",
    "import torch \n",
    "import torch.nn as nn\n",
    "\n",
    "class Network(nn.Module):\n",
    "    \n",
    "    def __init__(self,batch_size,input_size, \n",
    "                 hidden_size, nb_layers, dropout):\n",
    "        super(Network, self).__init__()\n",
    "        \n",
    "        \n",
    "        self.hidden_size = hidden_size\n",
    "        self.nb_layers = nb_layers\n",
    "        self.rnn = nn.LSTM(input_size, hidden_size, \n",
    "                           nb_layers, batch_first=True,\n",
    "                           dropout = dropout)\n",
    "        self.fc = nn.Linear(hidden_size, 2)\n",
    "        self.activation = nn.ReLU()\n",
    "        self.softmax = nn.LogSoftmax()\n",
    "        \n",
    "    \n",
    "    def forward(self, sequence):\n",
    "        \n",
    "        out,_ = self.rnn(sequence)\n",
    "        out = self.activation(out)\n",
    "        out = self.fc(out[:, -1, :])\n",
    "        likelihood = self.softmax(out)\n",
    "        return out, likelihood\n"
   ]
  },
  {
   "cell_type": "code",
   "execution_count": 6,
   "metadata": {
    "code_folding": [
     0
    ]
   },
   "outputs": [
    {
     "name": "stdout",
     "output_type": "stream",
     "text": [
      "Overwriting /home/sasuke/dev/amlsamples/deep_predictive_maintenance/train/train.py\n"
     ]
    }
   ],
   "source": [
    "%%writefile $TRAINING_DIR/train.py\n",
    "\n",
    "import numpy as np\n",
    "\n",
    "import torch\n",
    "import torch.nn as nn\n",
    "import torch.utils.data as utils\n",
    "\n",
    "from network import Network\n",
    "from sklearn.metrics import (precision_score,recall_score,f1_score)\n",
    "\n",
    "\n",
    "\n",
    "def train(X_train,y_train, \n",
    "          X_val,y_val,weight_decay,\n",
    "          learning_rate,batch_size,\n",
    "          hidden_size,dropout,\n",
    "          nb_epochs, run):\n",
    "\n",
    "    '''\n",
    "        Train lstm network \n",
    "        \n",
    "        params:\n",
    "            X_train: training set\n",
    "            y_train: training label\n",
    "            X_test: validation set\n",
    "            y_test: validation label\n",
    "            weight_decay: l2 reguralization\n",
    "            learning_rate: optimizer learning rate\n",
    "            batch_size: mini batches size\n",
    "            hidden_size: number of hidden units\n",
    "            dropout: Dropout\n",
    "            nb_epochs: number of epocs to train\n",
    "            run: AML RUN\n",
    "    '''\n",
    "    \n",
    "    print(\"Start training....\")\n",
    "    print('learning rate', learning_rate)\n",
    "    print(\"L2 regularization\", weight_decay)\n",
    "    print('dropout', dropout)\n",
    "    print('batch_size', batch_size)\n",
    "    print('hidden_units', hidden_size)\n",
    "    \n",
    "    dataset = utils.TensorDataset(torch.from_numpy(X_train),\n",
    "                                  torch.from_numpy(y_train)) \n",
    "    dataloader = utils.DataLoader(dataset, batch_size = batch_size,\n",
    "                                  shuffle = True)\n",
    "    \n",
    "    val_dataset = utils.TensorDataset(torch.from_numpy(X_val),\n",
    "                                      torch.from_numpy(y_val))\n",
    "    val_dataloader = utils.DataLoader(val_dataset)\n",
    "    \n",
    "    use_gpu = torch.device('cuda' if torch.cuda.is_available() else 'cpu')\n",
    "    \n",
    "    input_size = X_train.shape[2] #features dimension\n",
    "    nb_layers = 2 # lstm layers\n",
    "    \n",
    "    network = Network(batch_size, \n",
    "                      input_size,hidden_size,\n",
    "                      nb_layers,dropout).to(use_gpu)\n",
    "    \n",
    "\n",
    "    cost_fn = nn.CrossEntropyLoss()\n",
    "    optimizer = torch.optim.Adam(network.parameters(), lr=learning_rate,\n",
    "                                weight_decay=weight_decay)\n",
    "    \n",
    "    # Train the model\n",
    "    for epoch in range(nb_epochs):\n",
    "        for i, (X, y) in enumerate(dataloader):\n",
    "            optimizer.zero_grad()\n",
    "            y_pred, _ = network(X.to(use_gpu))\n",
    "            loss = cost_fn(y_pred, y.to(use_gpu))\n",
    "            loss.backward()\n",
    "            optimizer.step()\n",
    "            if (i+1) % 100 == 0:\n",
    "                run.log('loss', loss.item())\n",
    "                \n",
    "        # end of epoch evaluate      \n",
    "        evaluate(val_dataloader, network, use_gpu, run)\n",
    "        network.train()\n",
    "\n",
    "    return network\n",
    "\n",
    "def evaluate(dataloader, network, use_gpu, run):\n",
    "    \n",
    "    '''\n",
    "        Evaluate model on validation set\n",
    "        \n",
    "        params:\n",
    "            dataloader: dataloader\n",
    "            network: model\n",
    "            use_gpu: device\n",
    "            run: AML RUN\n",
    "    '''\n",
    "    \n",
    "    \n",
    "    \n",
    "    y_pred_lst = []\n",
    "    y_truth_lst = []\n",
    "    with torch.no_grad():\n",
    "        for i, (X, y) in enumerate(dataloader):\n",
    "            \n",
    "                #X = X.to(use_gpu)\n",
    "                output, _ = network(X.to(use_gpu))\n",
    "                y_pred = output.to('cpu').data.numpy().argmax(axis=1)\n",
    "                \n",
    "                y_pred_lst.append(y_pred)\n",
    "                y_truth_lst.append(y.data.numpy())\n",
    "                \n",
    "                \n",
    "        y_pred_np = np.array(y_pred_lst)\n",
    "        y_truth_np = np.array(y_truth_lst)\n",
    "        \n",
    "        precision = precision_score(y_truth_np, y_pred_np)\n",
    "        recall = recall_score(y_truth_np, y_pred_np)\n",
    "        f1 = f1_score(y_truth_np, y_pred_np)\n",
    "\n",
    "        run.log('precision', round(precision,2))\n",
    "        run.log('recall', round(recall,2))\n",
    "        run.log('f1', round(f1,2))"
   ]
  },
  {
   "cell_type": "code",
   "execution_count": 7,
   "metadata": {},
   "outputs": [
    {
     "name": "stdout",
     "output_type": "stream",
     "text": [
      "Overwriting /home/sasuke/dev/amlsamples/deep_predictive_maintenance/train/entry.py\n"
     ]
    }
   ],
   "source": [
    "%%writefile $TRAINING_DIR/entry.py\n",
    "\n",
    "\n",
    "import os\n",
    "import numpy as np\n",
    "import pandas as pd\n",
    "\n",
    "import torch\n",
    "\n",
    "from utils import to_tensors\n",
    "from train import train\n",
    "\n",
    "from sklearn.model_selection import train_test_split\n",
    "from azureml.core import Run\n",
    "\n",
    "if __name__ == '__main__':\n",
    "    \n",
    "    \n",
    "    \n",
    "    parser = argparse.ArgumentParser()\n",
    "    \n",
    "    parser.add_argument('--epochs', type=int, default=2,\n",
    "                        help='number of epochs to train')\n",
    "    parser.add_argument('--learning_rate', type=float,\n",
    "                        default=1e-3, help='learning rate')\n",
    "    parser.add_argument('--l2', type=float, \n",
    "                        help='Weight decay')\n",
    "    parser.add_argument('--dropout', type=float,\n",
    "                        default=.2, help='drop out')\n",
    "    parser.add_argument('--hidden_units', type=int,\n",
    "                        default=16, help='number of neurons')\n",
    "    parser.add_argument('--batch_size', type=int,\n",
    "                        default=16, help='Mini batch size')\n",
    "    parser.add_argument('--data_path', type=str, \n",
    "                        help='path to training-set file')\n",
    "    parser.add_argument('--output_dir', type=str, \n",
    "                        help='output directory')\n",
    "    \n",
    "    args = parser.parse_args()\n",
    "    nb_epochs = args.epochs\n",
    "    learning_rate = args.learning_rate\n",
    "    weight_decay = args.l2\n",
    "    dropout = args.dropout\n",
    "    data_path = args.data_path\n",
    "    output_dir = args.output_dir\n",
    "    batch_size = args.batch_size\n",
    "    hidden_size = args.hidden_units\n",
    "    batch_size = args.batch_size\n",
    "    \n",
    "    SEED = 123\n",
    "    torch.manual_seed(SEED)\n",
    "    np.random.seed(SEED)\n",
    "    \n",
    "    \n",
    "    print('Pytorch version', torch.__version__)\n",
    "    \n",
    "    run = Run.get_context()\n",
    "    \n",
    "    os.makedirs(data_path, exist_ok = True)\n",
    "    training_file = os.path.join(data_path, 'preprocessed_train_file.csv')\n",
    "    \n",
    "    X, y = to_tensors(training_file)\n",
    "    X_train, X_test, y_train, y_test = train_test_split(\n",
    "                             X, y, test_size=0.15, random_state=SEED)\n",
    "    \n",
    "\n",
    "    \n",
    "    network = train( X_train,y_train, \n",
    "                    X_test,y_test, weight_decay,\n",
    "                    learning_rate,batch_size,\n",
    "                    hidden_size,dropout,\n",
    "                    nb_epochs, run)\n",
    "    \n",
    "    os.makedirs(output_dir, exist_ok = True)\n",
    "    model_path = os.path.join(output_dir, 'network.pth')\n",
    "    \n",
    "    torch.save(network, model_path)\n",
    "    run.register_model(model_name = 'network.pth', model_path = model_path)"
   ]
  },
  {
   "cell_type": "markdown",
   "metadata": {},
   "source": [
    "## Estimator\n",
    "\n",
    "Here, we define the Pytorch estimator."
   ]
  },
  {
   "cell_type": "code",
   "execution_count": 8,
   "metadata": {},
   "outputs": [],
   "source": [
    "script_params = {\n",
    "    '--epochs': 3,\n",
    "    '--data_path': ds_path,\n",
    "    '--output_dir': './outputs'\n",
    "}\n",
    "\n",
    "estimator = PyTorch(source_directory = TRAINING_DIR, \n",
    "                    conda_packages = ['pandas', 'numpy', 'scikit-learn'],\n",
    "                    pip_packages = ['torch==1.0.0','torchvision'],\n",
    "                    script_params=script_params,\n",
    "                    compute_target=compute_target,\n",
    "                    entry_script='entry.py',\n",
    "                    use_gpu=True)"
   ]
  },
  {
   "cell_type": "markdown",
   "metadata": {},
   "source": [
    "## Hyperparameters tuning using Hyperdrive\n",
    "\n",
    "Here, we define hyerdrive configuration, as we are interested in true equipement failure, we will optimize for precision metric.\n",
    "\n",
    "For completness we will be tracking recall and F1 as well."
   ]
  },
  {
   "cell_type": "code",
   "execution_count": 9,
   "metadata": {
    "scrolled": true
   },
   "outputs": [],
   "source": [
    "param_sampling = RandomParameterSampling( {\n",
    "        'learning_rate':uniform(1e-4, 1e-2),\n",
    "        'l2':uniform(1e-4, 1e-3),\n",
    "        'dropout':uniform(.5,.7),\n",
    "        'batch_size':choice(16,32,64),\n",
    "        'hidden_units':choice(4,6,8)\n",
    "    }\n",
    ")\n",
    "\n",
    "termination_policy = BanditPolicy(slack_factor=.1, evaluation_interval=1, delay_evaluation=1)\n",
    "\n",
    "hd_run_config = HyperDriveRunConfig(estimator=estimator,\n",
    "                                            hyperparameter_sampling=param_sampling, \n",
    "                                            policy=termination_policy,\n",
    "                                            primary_metric_name='precision',\n",
    "                                            primary_metric_goal=PrimaryMetricGoal.MAXIMIZE,\n",
    "                                            max_total_runs=10,\n",
    "                                            max_concurrent_runs=5)"
   ]
  },
  {
   "cell_type": "markdown",
   "metadata": {},
   "source": [
    "We submit the exepriment for execution and render the Run execution through the widget"
   ]
  },
  {
   "cell_type": "code",
   "execution_count": 10,
   "metadata": {
    "scrolled": false
   },
   "outputs": [
    {
     "data": {
      "application/vnd.jupyter.widget-view+json": {
       "model_id": "ac0d406add24447083bc032949546353",
       "version_major": 2,
       "version_minor": 0
      },
      "text/plain": [
       "_HyperDriveWidget(widget_settings={'childWidgetDisplay': 'popup', 'send_telemetry': False, 'log_level': 'INFO'…"
      ]
     },
     "metadata": {},
     "output_type": "display_data"
    }
   ],
   "source": [
    "run = experiment.submit(hd_run_config)\n",
    "RunDetails(run).show()"
   ]
  },
  {
   "cell_type": "markdown",
   "metadata": {},
   "source": [
    "# Model registration\n",
    "\n",
    "With the model training done and hyperparameters tuned, we save the best trained model found by hyperdrive based on the primary metric, we have selected."
   ]
  },
  {
   "cell_type": "code",
   "execution_count": 11,
   "metadata": {},
   "outputs": [
    {
     "name": "stdout",
     "output_type": "stream",
     "text": [
      "deep_pdm saved\n"
     ]
    }
   ],
   "source": [
    "best_run = run.get_best_run_by_primary_metric()\n",
    "\n",
    "model = best_run.register_model(model_name='deep_pdm', model_path='outputs/network.pth')\n",
    "print(model.name, 'saved')"
   ]
  },
  {
   "cell_type": "markdown",
   "metadata": {},
   "source": [
    "## Model operationalization\n",
    "\n",
    "\n",
    "We are now ready to operationalizing the model and deloying the webservice. For testing purposes, we wil use ACI to serve predictions.\n",
    "\n",
    "For More details on Model deployment workflow in Azure Machine learning service,click [here](https://docs.microsoft.com/en-us/azure/machine-learning/service/how-to-deploy-and-where#deployment-workflow) \n",
    "\n",
    "The artifacts included in the image are under the score  directory. \n",
    "The listed below files are used as follow:\n",
    "\n",
    " - network.py: contains LSTM network definition \n",
    " - score.py: scoring file containing model loading and predictin serving\n",
    " - myenv.yml: contain python libraries needed by score.py"
   ]
  },
  {
   "cell_type": "code",
   "execution_count": 12,
   "metadata": {},
   "outputs": [
    {
     "name": "stdout",
     "output_type": "stream",
     "text": [
      "Overwriting ./score/score.py\n"
     ]
    }
   ],
   "source": [
    "%%writefile ./score/score.py\n",
    "\n",
    "import os\n",
    "import json\n",
    "import numpy as np\n",
    "import torch\n",
    "from azureml.core.model import Model\n",
    "\n",
    "def init():\n",
    "    global model\n",
    "    \n",
    "    model_path = Model.get_model_path('deep_pdm')\n",
    "    print(\"model loaded:\",model_path)\n",
    "    \n",
    "    model = torch.load(model_path, map_location=torch.device('cpu'))\n",
    "    model.eval()\n",
    "    \n",
    "\n",
    "def run(input_data):\n",
    "    x_input = torch.tensor(json.loads(input_data)['input_data'])\n",
    "    score,proba = model(x_input)\n",
    "    \n",
    "    score = score.data.numpy().argmax(axis=1).item()\n",
    "    proba = proba.view(-1)[0].item()\n",
    "    \n",
    "    return {'prediction':int(score), 'likelihood':float(proba)}"
   ]
  },
  {
   "cell_type": "code",
   "execution_count": 14,
   "metadata": {},
   "outputs": [],
   "source": [
    "from azureml.core.conda_dependencies import CondaDependencies \n",
    "\n",
    "conda_env = CondaDependencies.create(conda_packages=['numpy'],\n",
    "                                    pip_packages=['azureml-defaults','torch', 'torchvision'])\n",
    "\n",
    "with open(os.path.join(SCORING_DIR,'myenv.yml'),'w') as f:\n",
    "    f.write(conda_env.serialize_to_string())"
   ]
  },
  {
   "cell_type": "markdown",
   "metadata": {},
   "source": [
    "## Image creation\n",
    "\n",
    "Here, we instantiate an image configuration object and follow-up with Image creation"
   ]
  },
  {
   "cell_type": "code",
   "execution_count": 15,
   "metadata": {},
   "outputs": [
    {
     "name": "stdout",
     "output_type": "stream",
     "text": [
      "Switched current directory to /home/sasuke/dev/amlsamples/deep_predictive_maintenance/score\n",
      "Creating image\n",
      "Running.......................................................................\n",
      "SucceededImage creation operation finished for image dpm-image:14, operation \"Succeeded\"\n",
      "Reverted to root experiment directory\n"
     ]
    }
   ],
   "source": [
    "#Image_configuration call require  current directory to be where score.py and dependencies reside\n",
    "os.chdir(SCORING_DIR) \n",
    "print(\"Switched current directory to\",os.getcwd())\n",
    "\n",
    "image_config = ContainerImage.image_configuration(execution_script = \"score.py\",\n",
    "                                                 runtime = \"python\",\n",
    "                                                 conda_file = \"myenv.yml\",\n",
    "                                                 dependencies = [\"network.py\"],\n",
    "                                                 description = \"Image of predictive maintenance model\",\n",
    "                                                 tags = { \"type\": \"lstm_classifier\"}\n",
    "                                                 )\n",
    "image = ContainerImage.create(name = \"dpm-image\", \n",
    "                              models = [model], \n",
    "                              image_config = image_config,\n",
    "                              workspace = ws\n",
    "                              )\n",
    "image.wait_for_creation(show_output=True)\n",
    "\n",
    "\n",
    "os.chdir(PROJECT_DIR)\n",
    "print(\"Reverted to root experiment directory\")"
   ]
  },
  {
   "cell_type": "markdown",
   "metadata": {},
   "source": [
    "## Web service deployment\n",
    "\n",
    "With image built and published in the Azure container registry associated with our Azure machine learning workspace, we proceed with the deployment of the web service. for testing purposes, we opt for Azure container instance instead of Azure Kubernetes service cluster"
   ]
  },
  {
   "cell_type": "code",
   "execution_count": 18,
   "metadata": {},
   "outputs": [
    {
     "name": "stdout",
     "output_type": "stream",
     "text": [
      "Creating service\n",
      "Running..................................\n",
      "SucceededACI service creation operation finished, operation \"Succeeded\"\n"
     ]
    }
   ],
   "source": [
    "\n",
    "aci_config = AciWebservice.deploy_configuration(cpu_cores=2, \n",
    "                                               memory_gb=2, \n",
    "                                               tags={\"type\":\"deep predictive maintenance\"}, \n",
    "                                               description='Predict equipment failure')\n",
    "\n",
    "service = Webservice.deploy_from_image(workspace=ws,\n",
    "                                       name='predictive-maintenance-svc',\n",
    "                                       deployment_config=aci_config,\n",
    "                                       image = image)\n",
    "\n",
    "service.wait_for_deployment(show_output=True)"
   ]
  },
  {
   "cell_type": "markdown",
   "metadata": {},
   "source": [
    "## Test Web service\n",
    "\n",
    "Finally, we score the test data set against the webservice we've just deployed,and we'll report peformance metrics"
   ]
  },
  {
   "cell_type": "code",
   "execution_count": 23,
   "metadata": {},
   "outputs": [
    {
     "data": {
      "text/html": [
       "<div>\n",
       "<style scoped>\n",
       "    .dataframe tbody tr th:only-of-type {\n",
       "        vertical-align: middle;\n",
       "    }\n",
       "\n",
       "    .dataframe tbody tr th {\n",
       "        vertical-align: top;\n",
       "    }\n",
       "\n",
       "    .dataframe thead th {\n",
       "        text-align: right;\n",
       "    }\n",
       "</style>\n",
       "<table border=\"1\" class=\"dataframe\">\n",
       "  <thead>\n",
       "    <tr style=\"text-align: right;\">\n",
       "      <th></th>\n",
       "      <th>0</th>\n",
       "      <th>1</th>\n",
       "      <th>2</th>\n",
       "      <th>3</th>\n",
       "      <th>4</th>\n",
       "      <th>5</th>\n",
       "      <th>6</th>\n",
       "      <th>7</th>\n",
       "      <th>8</th>\n",
       "      <th>9</th>\n",
       "      <th>...</th>\n",
       "      <th>83</th>\n",
       "      <th>84</th>\n",
       "      <th>85</th>\n",
       "      <th>86</th>\n",
       "      <th>87</th>\n",
       "      <th>88</th>\n",
       "      <th>89</th>\n",
       "      <th>90</th>\n",
       "      <th>91</th>\n",
       "      <th>92</th>\n",
       "    </tr>\n",
       "  </thead>\n",
       "  <tbody>\n",
       "    <tr>\n",
       "      <th>engine ID</th>\n",
       "      <td>3</td>\n",
       "      <td>4</td>\n",
       "      <td>5</td>\n",
       "      <td>6</td>\n",
       "      <td>7</td>\n",
       "      <td>8</td>\n",
       "      <td>9</td>\n",
       "      <td>10</td>\n",
       "      <td>11</td>\n",
       "      <td>12</td>\n",
       "      <td>...</td>\n",
       "      <td>91</td>\n",
       "      <td>92</td>\n",
       "      <td>93</td>\n",
       "      <td>94</td>\n",
       "      <td>95</td>\n",
       "      <td>96</td>\n",
       "      <td>97</td>\n",
       "      <td>98</td>\n",
       "      <td>99</td>\n",
       "      <td>100</td>\n",
       "    </tr>\n",
       "    <tr>\n",
       "      <th>prediction</th>\n",
       "      <td>0</td>\n",
       "      <td>0</td>\n",
       "      <td>0</td>\n",
       "      <td>0</td>\n",
       "      <td>0</td>\n",
       "      <td>0</td>\n",
       "      <td>0</td>\n",
       "      <td>0</td>\n",
       "      <td>0</td>\n",
       "      <td>0</td>\n",
       "      <td>...</td>\n",
       "      <td>1</td>\n",
       "      <td>1</td>\n",
       "      <td>0</td>\n",
       "      <td>0</td>\n",
       "      <td>0</td>\n",
       "      <td>0</td>\n",
       "      <td>0</td>\n",
       "      <td>0</td>\n",
       "      <td>0</td>\n",
       "      <td>1</td>\n",
       "    </tr>\n",
       "    <tr>\n",
       "      <th>likelihood</th>\n",
       "      <td>0.92</td>\n",
       "      <td>0.99</td>\n",
       "      <td>0.99</td>\n",
       "      <td>1</td>\n",
       "      <td>1</td>\n",
       "      <td>0.99</td>\n",
       "      <td>1</td>\n",
       "      <td>1</td>\n",
       "      <td>0.98</td>\n",
       "      <td>1</td>\n",
       "      <td>...</td>\n",
       "      <td>0.17</td>\n",
       "      <td>0.2</td>\n",
       "      <td>0.68</td>\n",
       "      <td>0.9</td>\n",
       "      <td>1</td>\n",
       "      <td>1</td>\n",
       "      <td>1</td>\n",
       "      <td>0.99</td>\n",
       "      <td>1</td>\n",
       "      <td>0.23</td>\n",
       "    </tr>\n",
       "  </tbody>\n",
       "</table>\n",
       "<p>3 rows × 93 columns</p>\n",
       "</div>"
      ],
      "text/plain": [
       "              0     1     2  3  4     5  6   7     8   9   ...     83   84  \\\n",
       "engine ID      3     4     5  6  7     8  9  10    11  12  ...     91   92   \n",
       "prediction     0     0     0  0  0     0  0   0     0   0  ...      1    1   \n",
       "likelihood  0.92  0.99  0.99  1  1  0.99  1   1  0.98   1  ...   0.17  0.2   \n",
       "\n",
       "              85   86  87  88  89    90  91    92  \n",
       "engine ID     93   94  95  96  97    98  99   100  \n",
       "prediction     0    0   0   0   0     0   0     1  \n",
       "likelihood  0.68  0.9   1   1   1  0.99   1  0.23  \n",
       "\n",
       "[3 rows x 93 columns]"
      ]
     },
     "execution_count": 23,
     "metadata": {},
     "output_type": "execute_result"
    }
   ],
   "source": [
    "path = os.path.join(PROJECT_DIR, 'data/preprocessed_test_file.csv')\n",
    "X,y,engine_ids = to_tensors(path, is_test = True)\n",
    "\n",
    "output_df = pd.DataFrame(columns = ['engine ID', 'prediction', 'likelihood'])\n",
    "\n",
    "for i,x in enumerate(X):\n",
    "    output =service.run(json.dumps({'input_data': x[np.newaxis,:].tolist()}))\n",
    "    output_df.loc[i] = [str(engine_ids[i]), float(output['prediction']),\n",
    "                        round(exp(output['likelihood']),2)]\n",
    "                                                                       \n",
    "output_df.T"
   ]
  },
  {
   "cell_type": "markdown",
   "metadata": {},
   "source": [
    "## Test set performance\n",
    "\n",
    "Lastly, we report precision, recall and F1 performance metrics on the test data"
   ]
  },
  {
   "cell_type": "code",
   "execution_count": 26,
   "metadata": {},
   "outputs": [
    {
     "name": "stdout",
     "output_type": "stream",
     "text": [
      "Precision: 0.95\n",
      "Recall: 0.72\n",
      "F1: 0.82\n"
     ]
    }
   ],
   "source": [
    "y_hat = output_df.prediction\n",
    "\n",
    "print(\"Precision:\",round(precision_score(y, y_hat),2))\n",
    "print(\"Recall:\",round(recall_score(y, y_hat),2))\n",
    "print(\"F1:\",round(f1_score(y, y_hat),2))"
   ]
  },
  {
   "cell_type": "markdown",
   "metadata": {},
   "source": [
    "## Tear down resources"
   ]
  },
  {
   "cell_type": "code",
   "execution_count": 28,
   "metadata": {},
   "outputs": [],
   "source": [
    "service.delete()"
   ]
  }
 ],
 "metadata": {
  "anaconda-cloud": {},
  "kernelspec": {
   "display_name": "amlenv",
   "language": "python",
   "name": "amlenv"
  },
  "language_info": {
   "codemirror_mode": {
    "name": "ipython",
    "version": 3
   },
   "file_extension": ".py",
   "mimetype": "text/x-python",
   "name": "python",
   "nbconvert_exporter": "python",
   "pygments_lexer": "ipython3",
   "version": "3.6.7"
  },
  "varInspector": {
   "cols": {
    "lenName": 16,
    "lenType": 16,
    "lenVar": 40
   },
   "kernels_config": {
    "python": {
     "delete_cmd_postfix": "",
     "delete_cmd_prefix": "del ",
     "library": "var_list.py",
     "varRefreshCmd": "print(var_dic_list())"
    },
    "r": {
     "delete_cmd_postfix": ") ",
     "delete_cmd_prefix": "rm(",
     "library": "var_list.r",
     "varRefreshCmd": "cat(var_dic_list()) "
    }
   },
   "types_to_exclude": [
    "module",
    "function",
    "builtin_function_or_method",
    "instance",
    "_Feature"
   ],
   "window_display": false
  }
 },
 "nbformat": 4,
 "nbformat_minor": 2
}
