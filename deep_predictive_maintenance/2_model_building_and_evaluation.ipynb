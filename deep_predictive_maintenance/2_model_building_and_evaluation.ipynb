{
 "cells": [
  {
   "cell_type": "markdown",
   "metadata": {
    "collapsed": true
   },
   "source": [
    "# Step 2: Model Building & Evaluation\n",
    "Using the training and test data sets we constructed in the `Code/1_data_ingestion_and_preparation.ipynb` Jupyter notebook, this notebook builds a LSTM network for scenerio described at [Predictive Maintenance Template](https://gallery.cortanaintelligence.com/Collection/Predictive-Maintenance-Template-3) to predict failure in aircraft engines. We will store the model for deployment in an Azure web service which we build in the `Code/3_operationalization.ipynb` Jupyter notebook."
   ]
  },
  {
   "cell_type": "code",
   "execution_count": 1,
   "metadata": {},
   "outputs": [
    {
     "name": "stdout",
     "output_type": "stream",
     "text": [
      "SDK verison 1.0.2\n"
     ]
    }
   ],
   "source": [
    "\n",
    "# import the libraries\n",
    "import os\n",
    "\n",
    "from azureml.core import  (Workspace,Run,VERSION,\n",
    "                           Experiment,Datastore)\n",
    "from azureml.core.compute import (AmlCompute, ComputeTarget)\n",
    "from azureml.exceptions import ComputeTargetException\n",
    "\n",
    "from azureml.train.dnn import PyTorch\n",
    "from azureml.train.hyperdrive import *\n",
    "\n",
    "from azureml.widgets import RunDetails\n",
    "\n",
    "print('SDK verison', VERSION)"
   ]
  },
  {
   "cell_type": "markdown",
   "metadata": {},
   "source": [
    "## Azure ML workspace"
   ]
  },
  {
   "cell_type": "code",
   "execution_count": 2,
   "metadata": {},
   "outputs": [
    {
     "name": "stdout",
     "output_type": "stream",
     "text": [
      "Found the config file in: /home/sasuke/dev/amlsamples/deep_predictive_maintenance/aml_config/config.json\n",
      "Workspace loaded: vienna\n"
     ]
    }
   ],
   "source": [
    "project_folder = os.getcwd()\n",
    "exp_name = \"deep_pred\"\n",
    "\n",
    "ws = Workspace.from_config()\n",
    "print('Workspace loaded:', ws.name)"
   ]
  },
  {
   "cell_type": "markdown",
   "metadata": {},
   "source": [
    "## Load feature data set\n",
    "\n",
    "We have previously created the labeled data set in the `Code\\1_Data Ingestion and Preparation.ipynb` Jupyter notebook and stored it in default data store of the AML workspace.\n",
    "\n",
    "Here We get a reference to the aforementioned data store"
   ]
  },
  {
   "cell_type": "code",
   "execution_count": 3,
   "metadata": {},
   "outputs": [
    {
     "name": "stderr",
     "output_type": "stream",
     "text": [
      "Client-Request-ID=fcb1de02-03b4-11e9-a19f-5910073e53f4 Retry policy did not allow for a retry: Server-Timestamp=Wed, 19 Dec 2018 17:39:07 GMT, Server-Request-ID=a9fde3d6-701e-0047-55c1-97ce74000000, HTTP status code=416, Exception=The range specified is invalid for the current size of the resource. ErrorCode: InvalidRange<?xml version=\"1.0\" encoding=\"utf-8\"?><Error><Code>InvalidRange</Code><Message>The range specified is invalid for the current size of the resource.RequestId:a9fde3d6-701e-0047-55c1-97ce74000000Time:2018-12-19T17:39:08.0628487Z</Message></Error>.\n",
      "Client-Request-ID=fcb240a4-03b4-11e9-a19f-5910073e53f4 Retry policy did not allow for a retry: Server-Timestamp=Wed, 19 Dec 2018 17:39:07 GMT, Server-Request-ID=4e8e2988-a01e-0054-50c1-97ea78000000, HTTP status code=416, Exception=The range specified is invalid for the current size of the resource. ErrorCode: InvalidRange<?xml version=\"1.0\" encoding=\"utf-8\"?><Error><Code>InvalidRange</Code><Message>The range specified is invalid for the current size of the resource.RequestId:4e8e2988-a01e-0054-50c1-97ea78000000Time:2018-12-19T17:39:08.0684313Z</Message></Error>.\n",
      "Client-Request-ID=fcb26d54-03b4-11e9-a19f-5910073e53f4 Retry policy did not allow for a retry: Server-Timestamp=Wed, 19 Dec 2018 17:39:08 GMT, Server-Request-ID=cf48c31e-c01e-0020-51c1-97de88000000, HTTP status code=416, Exception=The range specified is invalid for the current size of the resource. ErrorCode: InvalidRange<?xml version=\"1.0\" encoding=\"utf-8\"?><Error><Code>InvalidRange</Code><Message>The range specified is invalid for the current size of the resource.RequestId:cf48c31e-c01e-0020-51c1-97de88000000Time:2018-12-19T17:39:08.0893819Z</Message></Error>.\n"
     ]
    },
    {
     "name": "stdout",
     "output_type": "stream",
     "text": [
      "$AZUREML_DATAREFERENCE_a6d6fe1311244220b9c3d274f72304c1\n"
     ]
    }
   ],
   "source": [
    "\n",
    "\n",
    "ds = Datastore.get(ws,'workspaceblobstore')\n",
    "ds.download(project_folder, overwrite=True, show_progress = True)\n",
    "\n",
    "data_path = \"data\"\n",
    "ds_path = ds.path(data_path)\n",
    "print(ds_path)\n"
   ]
  },
  {
   "cell_type": "markdown",
   "metadata": {},
   "source": [
    "## Modelling\n",
    "\n",
    "The traditional predictive maintenance machine learning models are based on feature engineering, the manual construction of variable using domain expertise and intuition. This usually makes these models hard to reuse as the feature are specific to the problem scenario and the available data may vary between customers. Perhaps the most attractive advantage of deep learning they automatically do feature engineering from the data, eliminating the need for the manual feature engineering step.\n",
    "\n",
    "When using LSTMs in the time-series domain, one important parameter is the sequence length, the window to examine for failure signal. This may be viewed as picking a `window_size` (i.e. 5 cycles) for calculating the rolling features in the [Predictive Maintenance Template](https://gallery.cortanaintelligence.com/Collection/Predictive-Maintenance-Template-3). The rolling features included rolling mean and rolling standard deviation over the 5 cycles for each of the 21 sensor values. In deep learning, we allow the LSTMs to extract abstract features out of the sequence of sensor values within the window. The expectation is that patterns within these sensor values will be automatically encoded by the LSTM.\n",
    "\n",
    "Another critical advantage of LSTMs is their ability to remember from long-term sequences (window sizes) which is hard to achieve by traditional feature engineering. Computing rolling averages over a window size of 50 cycles may lead to loss of information due to smoothing over such a long period. LSTMs are able to use larger window sizes and use all the information in the window as input. \n",
    "\n",
    "http://colah.github.io/posts/2015-08-Understanding-LSTMs/ contains more information on the details of LSTM networks.\n",
    "\n",
    "This notebook illustrates the LSTM approach to binary classification using a sequence_length of 50 cycles to predict the probability of engine failure within 30 days."
   ]
  },
  {
   "cell_type": "code",
   "execution_count": 4,
   "metadata": {},
   "outputs": [
    {
     "name": "stdout",
     "output_type": "stream",
     "text": [
      "Found existing compute target.\n"
     ]
    }
   ],
   "source": [
    "training_dir = './train'\n",
    "os.makedirs(training_dir, exist_ok=True)\n",
    "\n",
    "# choose a name for your cluster\n",
    "cluster_name = \"gpu-cluster\"\n",
    "\n",
    "try:\n",
    "    compute_target = ComputeTarget(workspace=ws, name=cluster_name)\n",
    "    print('Found existing compute target.')\n",
    "except ComputeTargetException:\n",
    "    print('Creating a new compute target...')\n",
    "    compute_config = AmlCompute.provisioning_configuration(vm_size='STANDARD_NC6',\n",
    "                                                           max_nodes=6)\n",
    "\n",
    "    # create the cluster\n",
    "    compute_target = ComputeTarget.create(ws, cluster_name, compute_config)\n",
    "\n",
    "    compute_target.wait_for_completion(show_output=True)"
   ]
  },
  {
   "cell_type": "markdown",
   "metadata": {},
   "source": [
    "## LSTM Network\n",
    "\n",
    "Building a Neural Net requires determining the network architecture. In this scenario we will build an LSTM network using Pytorch [estimator](https://docs.microsoft.com/en-us/azure/machine-learning/service/how-to-train-pytorch).\n",
    "\n",
    "The hyperparameters tunning of the network is achieved using [Hyperdrive](https://docs.microsoft.com/en-us/azure/machine-learning/service/how-to-tune-hyperparameters)\n",
    "\n",
    "In the train directory, the listed below files are used as follow:\n",
    "\n",
    " - Utils.py: contains data preparation to read csv files and transform them into lstm ready 3D tensors.\n",
    " - network.py: Defines LSTM network in pytorch.\n",
    " - train.py: entry script to estimator, contain training script."
   ]
  },
  {
   "cell_type": "code",
   "execution_count": 5,
   "metadata": {
    "code_folding": [
     0
    ]
   },
   "outputs": [
    {
     "name": "stdout",
     "output_type": "stream",
     "text": [
      "Overwriting ./train/network.py\n"
     ]
    }
   ],
   "source": [
    "%%writefile ./train/network.py\n",
    "\n",
    "import torch \n",
    "import torch.nn as nn\n",
    "import torch.utils.data as utils\n",
    "\n",
    "class Network(nn.Module):\n",
    "    \n",
    "    def __init__(self,device, input_size, hidden_size, nb_layers, dropout, nb_classes=2):\n",
    "        super(Network, self).__init__()\n",
    "        \n",
    "        self.device = device\n",
    "        self.hidden_size = hidden_size\n",
    "        self.nb_layers = nb_layers\n",
    "        self.dropout = nn.Dropout(dropout)\n",
    "        self.lstm0 = nn.LSTM(input_size, hidden_size, nb_layers, batch_first=True)\n",
    "        self.lstm1 = nn.LSTM(hidden_size, hidden_size//2, nb_layers, batch_first=True)\n",
    "        self.fc = nn.Linear(hidden_size//2, nb_classes)\n",
    "        self.activation = nn.ReLU()\n",
    "        \n",
    "    \n",
    "    def forward(self, x):\n",
    "        \n",
    "        # Set initial hidden and cell states \n",
    "        h0 = torch.zeros(self.nb_layers, x.size(0), self.hidden_size).to(self.device)\n",
    "        c0 = torch.zeros(self.nb_layers, x.size(0), self.hidden_size).to(self.device)\n",
    "        \n",
    "        h1 = torch.zeros(self.nb_layers, x.size(0), self.hidden_size//2).to(self.device)\n",
    "        c1 = torch.zeros(self.nb_layers, x.size(0), self.hidden_size//2).to(self.device)\n",
    "        \n",
    "        # Forward propagate LSTM\n",
    "        self.lstm0.flatten_parameters()\n",
    "        out, _ = self.lstm0(x, (h0, c0))\n",
    "        out = self.activation(out)\n",
    "        out = self.dropout(out)\n",
    "        \n",
    "        self.lstm1.flatten_parameters()\n",
    "        out, _ = self.lstm1(out, (h1, c1))\n",
    "        out = self.activation(out)\n",
    "        \n",
    "        # retrieve hidden state of the last time step\n",
    "        out = self.fc(out[:, -1, :])\n",
    "       \n",
    "        return out\n"
   ]
  },
  {
   "cell_type": "code",
   "execution_count": 6,
   "metadata": {
    "code_folding": [
     0
    ]
   },
   "outputs": [
    {
     "name": "stdout",
     "output_type": "stream",
     "text": [
      "Overwriting ./train/train.py\n"
     ]
    }
   ],
   "source": [
    "%%writefile ./train/train.py\n",
    "\n",
    "\n",
    "import torch \n",
    "import torch.nn as nn\n",
    "import torch.utils.data as utils\n",
    "from azureml.core import Run\n",
    "import numpy as np\n",
    "import pandas as pd\n",
    "from utils import tensorize,to_tensors\n",
    "from network import Network\n",
    "from sklearn.metrics import (recall_score, \n",
    "                             precision_score, \n",
    "                             accuracy_score)\n",
    "\n",
    "run = Run.get_context()\n",
    "\n",
    "def train( dataloader, learning_rate,\n",
    "          device,input_size, \n",
    "          hidden_size, nb_layers,\n",
    "          dropout, nb_classes,\n",
    "         X_val,y_val):\n",
    "    \n",
    "    print(\"Start training\")\n",
    "    run.log('learning rate', learning_rate)\n",
    "    run.log('dropout', dropout)\n",
    "    \n",
    "    network = Network(device, input_size,\n",
    "                      hidden_size, nb_layers, dropout, \n",
    "                      nb_classes).to(device)\n",
    "    \n",
    "    # Loss and optimizer\n",
    "    criterion = nn.CrossEntropyLoss()\n",
    "    optimizer = torch.optim.Adam(network.parameters(), lr=learning_rate)\n",
    "    \n",
    "\n",
    "    \n",
    "    # Train the model\n",
    "    for epoch in range(nb_epochs):\n",
    "        for i, (X, y) in enumerate(dataloader):\n",
    "            X = X.reshape(-1, X.shape[1], input_size).to(device)\n",
    "            y = y.to(device)\n",
    "\n",
    "            # Forward pass\n",
    "            y_pred = network(X)\n",
    "            loss = criterion(y_pred, y)\n",
    "\n",
    "            # Backprop\n",
    "            optimizer.zero_grad()\n",
    "            loss.backward()\n",
    "            optimizer.step()\n",
    "\n",
    "            if (i+1) % 100 == 0:\n",
    "                '''print('epoch [{}/{}], loss: {:.4f}'\n",
    "                                   .format(epoch+1,nb_epochs, loss.item()))'''\n",
    "                run.log('loss', loss.item())\n",
    "                \n",
    "        evaluate(X_val,y_val, network, device)\n",
    "\n",
    "    return network\n",
    "\n",
    "def evaluate(X_test,y_test , network, device):\n",
    "    \n",
    "    '''\n",
    "        Evaluate model on testing set\n",
    "        \n",
    "        params:\n",
    "            testfile_path: path to testing file\n",
    "    '''\n",
    "\n",
    "    X_test = torch.from_numpy(X_test).to(device)\n",
    "    y_test = torch.from_numpy(y_test).to(device)\n",
    "\n",
    "    y_pred = network(X_test)\n",
    "    \n",
    "    y_pred_np = y_pred.to('cpu').data.numpy()\n",
    "    y_test_np = y_test.to('cpu').data.numpy()\n",
    "    y_pred_np = np.argmax(y_pred_np, axis=1)\n",
    "    \n",
    "    accuracy = accuracy_score(y_test_np, y_pred_np)\n",
    "    precision = precision_score(y_test_np, y_pred_np)\n",
    "    recall = recall_score(y_test_np, y_pred_np)\n",
    "    \n",
    "    run.log('accuracy', accuracy)\n",
    "    run.log('precision', precision)\n",
    "    run.log('recall', recall)\n",
    "\n",
    "if __name__ == '__main__':\n",
    "    \n",
    "    print('Pytorch version', torch.__version__)\n",
    "    \n",
    "    parser = argparse.ArgumentParser()\n",
    "    \n",
    "    parser.add_argument('--epochs', type=int, default=2,\n",
    "                        help='number of epochs to train')\n",
    "    parser.add_argument('--learning_rate', type=float,\n",
    "                        default=1e-3, help='learning rate')\n",
    "    parser.add_argument('--dropout', type=float,\n",
    "                        default=.2, help='drop out')\n",
    "    parser.add_argument('--layers', type=int,\n",
    "                        default=1, help='number of layers')\n",
    "    parser.add_argument('--data_path', type=str, \n",
    "                        help='path to training-set file')\n",
    "    parser.add_argument('--output_dir', type=str, \n",
    "                        help='output directory')\n",
    "    \n",
    "    args = parser.parse_args()\n",
    "    nb_epochs = args.epochs\n",
    "    learning_rate = args.learning_rate\n",
    "    dropout = args.dropout\n",
    "    data_path = args.data_path\n",
    "    output_dir = args.output_dir\n",
    "    nb_layers = args.layers\n",
    "    \n",
    "    hidden_size = 128\n",
    "    nb_classes = 2\n",
    "    batch_size = 32\n",
    "    \n",
    "    \n",
    "    \n",
    "    os.makedirs(data_path, exist_ok = True)\n",
    "    training_file = os.path.join(data_path, 'preprocessed_train_file.csv')\n",
    "    \n",
    "    X_train, y_train = to_tensors(training_file)\n",
    "    input_size = X_train.shape[2]\n",
    "    X_train = torch.from_numpy(X_train)\n",
    "    y_train = torch.from_numpy(y_train)\n",
    "    \n",
    "    val_file_path = os.path.join(data_path, 'preprocessed_test_file.csv')\n",
    "    X_val,y_val = to_tensors(val_file_path, istest = True)\n",
    "    \n",
    "    dataset = utils.TensorDataset(X_train,y_train) \n",
    "    dataloader = utils.DataLoader(dataset)\n",
    "    \n",
    "    device = torch.device('cuda' if torch.cuda.is_available() else 'cpu')\n",
    "    \n",
    "    \n",
    "    network = train(dataloader,learning_rate,\n",
    "                    device, input_size,\n",
    "                    hidden_size, nb_layers,\n",
    "                    dropout, nb_classes,\n",
    "                    X_val,y_val)\n",
    "    \n",
    "    \n",
    "    evaluate(X_val,y_val, network, device)\n",
    "    \n",
    "    os.makedirs(output_dir, exist_ok = True)\n",
    "    model_path = os.path.join(output_dir, 'network.pth')\n",
    "    torch.save(network, model_path)\n",
    "    run.register_model(model_name = 'network.pth', model_path = model_path)"
   ]
  },
  {
   "cell_type": "markdown",
   "metadata": {},
   "source": [
    "## Estimator\n",
    "\n",
    "Here, we define the Pytorch estimator."
   ]
  },
  {
   "cell_type": "code",
   "execution_count": 7,
   "metadata": {},
   "outputs": [],
   "source": [
    "script_params = {\n",
    "    '--epochs': 2,\n",
    "    '--data_path': ds_path,\n",
    "    '--output_dir': './outputs'\n",
    "}\n",
    "\n",
    "estimator = PyTorch(source_directory = training_dir, \n",
    "                    conda_packages = ['pandas', 'numpy', 'scikit-learn'],\n",
    "                    pip_packages = ['torch==0.4.1','torchvision'],\n",
    "                    script_params=script_params,\n",
    "                    compute_target=compute_target,\n",
    "                    entry_script='train.py',\n",
    "                    use_gpu=True)"
   ]
  },
  {
   "cell_type": "markdown",
   "metadata": {},
   "source": [
    "## Hyperdrive\n",
    "\n",
    "Here, we define hyerdrive configuration"
   ]
  },
  {
   "cell_type": "code",
   "execution_count": 8,
   "metadata": {},
   "outputs": [],
   "source": [
    "param_sampling = RandomParameterSampling( {\n",
    "        'learning_rate': uniform(1e-6, 1e-2),\n",
    "        'dropout': uniform(.4,.8),\n",
    "        'layers': choice(1,2,3)\n",
    "    }\n",
    ")\n",
    "\n",
    "termination_policy = BanditPolicy(slack_factor=.1, evaluation_interval=1, delay_evaluation=1)\n",
    "\n",
    "hyperdrive_run = HyperDriveRunConfig(estimator=estimator,\n",
    "                                            hyperparameter_sampling=param_sampling, \n",
    "                                            policy=termination_policy,\n",
    "                                            primary_metric_name='accuracy',\n",
    "                                            primary_metric_goal=PrimaryMetricGoal.MAXIMIZE,\n",
    "                                            max_total_runs=24,\n",
    "                                            max_concurrent_runs=6)"
   ]
  },
  {
   "cell_type": "markdown",
   "metadata": {},
   "source": [
    "We submit the exepriment for execution and render the Run execution through the widget"
   ]
  },
  {
   "cell_type": "code",
   "execution_count": 9,
   "metadata": {},
   "outputs": [],
   "source": [
    "experiment = Experiment(workspace=ws, name=exp_name)\n",
    "run = experiment.submit(hyperdrive_run)\n"
   ]
  },
  {
   "cell_type": "code",
   "execution_count": 10,
   "metadata": {},
   "outputs": [
    {
     "data": {
      "application/vnd.jupyter.widget-view+json": {
       "model_id": "11790c6bb9194f528e713c0da7c2a34c",
       "version_major": 2,
       "version_minor": 0
      },
      "text/plain": [
       "_HyperDriveWidget(widget_settings={'childWidgetDisplay': 'popup', 'send_telemetry': True, 'log_level': 'INFO',…"
      ]
     },
     "metadata": {},
     "output_type": "display_data"
    }
   ],
   "source": [
    "RunDetails(run).show()"
   ]
  },
  {
   "cell_type": "code",
   "execution_count": null,
   "metadata": {},
   "outputs": [],
   "source": []
  }
 ],
 "metadata": {
  "anaconda-cloud": {},
  "kernelspec": {
   "display_name": "amlenv",
   "language": "python",
   "name": "amlenv"
  },
  "language_info": {
   "codemirror_mode": {
    "name": "ipython",
    "version": 3
   },
   "file_extension": ".py",
   "mimetype": "text/x-python",
   "name": "python",
   "nbconvert_exporter": "python",
   "pygments_lexer": "ipython3",
   "version": "3.6.7"
  },
  "varInspector": {
   "cols": {
    "lenName": 16,
    "lenType": 16,
    "lenVar": 40
   },
   "kernels_config": {
    "python": {
     "delete_cmd_postfix": "",
     "delete_cmd_prefix": "del ",
     "library": "var_list.py",
     "varRefreshCmd": "print(var_dic_list())"
    },
    "r": {
     "delete_cmd_postfix": ") ",
     "delete_cmd_prefix": "rm(",
     "library": "var_list.r",
     "varRefreshCmd": "cat(var_dic_list()) "
    }
   },
   "types_to_exclude": [
    "module",
    "function",
    "builtin_function_or_method",
    "instance",
    "_Feature"
   ],
   "window_display": false
  }
 },
 "nbformat": 4,
 "nbformat_minor": 2
}
