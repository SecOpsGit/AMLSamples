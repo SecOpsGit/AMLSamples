{
 "cells": [
  {
   "cell_type": "markdown",
   "metadata": {
    "collapsed": true
   },
   "source": [
    "# Step 2: Model Building & Evaluation\n",
    "Using the training and test data sets we constructed in the `Code/1_data_ingestion_and_preparation.ipynb` Jupyter notebook, this notebook builds a LSTM network for scenerio described at [Predictive Maintenance Template](https://gallery.cortanaintelligence.com/Collection/Predictive-Maintenance-Template-3) to predict failure in aircraft engines. We will store the model for deployment in an Azure web service which we build in the `Code/3_operationalization.ipynb` Jupyter notebook."
   ]
  },
  {
   "cell_type": "code",
   "execution_count": 61,
   "metadata": {},
   "outputs": [
    {
     "name": "stdout",
     "output_type": "stream",
     "text": [
      "SDK verison 1.0.6\n"
     ]
    }
   ],
   "source": [
    "# import the libraries\n",
    "import os\n",
    "\n",
    "from azureml.core import  (Workspace,Run,VERSION,\n",
    "                           Experiment,Datastore)\n",
    "from azureml.core.compute import (AmlCompute, ComputeTarget)\n",
    "from azureml.exceptions import ComputeTargetException\n",
    "\n",
    "from azureml.train.dnn import PyTorch\n",
    "from azureml.train.hyperdrive import *\n",
    "from azureml.widgets import RunDetails\n",
    "\n",
    "\n",
    "\n",
    "print('SDK verison', VERSION)"
   ]
  },
  {
   "cell_type": "markdown",
   "metadata": {},
   "source": [
    "## Azure ML workspace"
   ]
  },
  {
   "cell_type": "code",
   "execution_count": 62,
   "metadata": {},
   "outputs": [
    {
     "name": "stdout",
     "output_type": "stream",
     "text": [
      "Found the config file in: /home/sasuke/dev/amlsamples/deep_predictive_maintenance/aml_config/config.json\n",
      "Workspace loaded: vienna\n"
     ]
    }
   ],
   "source": [
    "project_folder = os.getcwd()\n",
    "exp_name = \"deep_pred\"\n",
    "\n",
    "ws = Workspace.from_config()\n",
    "print('Workspace loaded:', ws.name)"
   ]
  },
  {
   "cell_type": "markdown",
   "metadata": {},
   "source": [
    "## Load feature data set\n",
    "\n",
    "We have previously created the labeled data set in the `Code\\1_Data Ingestion and Preparation.ipynb` Jupyter notebook and stored it in default data store of the AML workspace.\n",
    "\n",
    "Here, we call path method that returns an instance to [data reference](https://docs.microsoft.com/en-us/python/api/azureml-core/azureml.data.data_reference.datareference?view=azure-ml-py) which  will be passed to the training script during the run execution."
   ]
  },
  {
   "cell_type": "code",
   "execution_count": 63,
   "metadata": {},
   "outputs": [
    {
     "name": "stdout",
     "output_type": "stream",
     "text": [
      "$AZUREML_DATAREFERENCE_af29574a359e4b99867c5dcaeecada83\n"
     ]
    }
   ],
   "source": [
    "ds = Datastore.get(ws,'workspaceblobstore')\n",
    "data_path = \"data\"\n",
    "ds_path = ds.path(data_path)\n",
    "print(ds_path)"
   ]
  },
  {
   "cell_type": "markdown",
   "metadata": {},
   "source": [
    "## Compute target\n",
    "\n",
    "Here, we provision the AML Compute that will be used to execute training script"
   ]
  },
  {
   "cell_type": "code",
   "execution_count": 64,
   "metadata": {},
   "outputs": [
    {
     "name": "stdout",
     "output_type": "stream",
     "text": [
      "Found existing compute target.\n"
     ]
    }
   ],
   "source": [
    "training_dir = './train'\n",
    "os.makedirs(training_dir, exist_ok=True)\n",
    "\n",
    "# choose a name for your cluster\n",
    "cluster_name = \"gpu-cluster\"\n",
    "\n",
    "try:\n",
    "    compute_target = ComputeTarget(workspace=ws, name=cluster_name)\n",
    "    print('Found existing compute target.')\n",
    "except ComputeTargetException:\n",
    "    print('Creating a new compute target...')\n",
    "    compute_config = AmlCompute.provisioning_configuration(vm_size='STANDARD_NC6',\n",
    "                                                           max_nodes=6)\n",
    "\n",
    "    # create the cluster\n",
    "    compute_target = ComputeTarget.create(ws, cluster_name, compute_config)\n",
    "\n",
    "    compute_target.wait_for_completion(show_output=True)"
   ]
  },
  {
   "cell_type": "markdown",
   "metadata": {},
   "source": [
    "## Modelling\n",
    "\n",
    "The traditional predictive maintenance machine learning models are based on feature engineering, the manual construction of variable using domain expertise and intuition. This usually makes these models hard to reuse as the feature are specific to the problem scenario and the available data may vary between customers. Perhaps the most attractive advantage of deep learning they automatically do feature engineering from the data, eliminating the need for the manual feature engineering step.\n",
    "\n",
    "When using LSTMs in the time-series domain, one important parameter is the sequence length, the window to examine for failure signal. This may be viewed as picking a `window_size` (i.e. 5 cycles) for calculating the rolling features in the [Predictive Maintenance Template](https://gallery.cortanaintelligence.com/Collection/Predictive-Maintenance-Template-3). The rolling features included rolling mean and rolling standard deviation over the 5 cycles for each of the 21 sensor values. In deep learning, we allow the LSTMs to extract abstract features out of the sequence of sensor values within the window. The expectation is that patterns within these sensor values will be automatically encoded by the LSTM.\n",
    "\n",
    "Another critical advantage of LSTMs is their ability to remember from long-term sequences (window sizes) which is hard to achieve by traditional feature engineering. Computing rolling averages over a window size of 50 cycles may lead to loss of information due to smoothing over such a long period. LSTMs are able to use larger window sizes and use all the information in the window as input. \n",
    "\n",
    "http://colah.github.io/posts/2015-08-Understanding-LSTMs/ contains more information on the details of LSTM networks.\n",
    "\n",
    "This sample illustrates the LSTM approach to binary classification using a sequence_length of 50 cycles to predict the probability of engine failure within 30 days."
   ]
  },
  {
   "cell_type": "markdown",
   "metadata": {},
   "source": [
    "##  Implementation and hyperparameters tuning\n",
    "\n",
    "Building a Neural Net requires determining the network architecture. In this scenario we will build an LSTM network using Pytorch [estimator](https://docs.microsoft.com/en-us/azure/machine-learning/service/how-to-train-pytorch).\n",
    "\n",
    "The hyperparameters tunning of the network is achieved using [Hyperdrive](https://docs.microsoft.com/en-us/azure/machine-learning/service/how-to-tune-hyperparameters)\n",
    "\n",
    "In the train directory, the listed below files are used as follow:\n",
    "\n",
    " - Utils.py: contains data preparation to read csv files and transform them into lstm ready 3D tensors.\n",
    " - network.py: Defines LSTM network in pytorch.\n",
    " - train.py: entry script to estimator, contain training script."
   ]
  },
  {
   "cell_type": "code",
   "execution_count": 108,
   "metadata": {
    "code_folding": [
     0
    ]
   },
   "outputs": [
    {
     "name": "stdout",
     "output_type": "stream",
     "text": [
      "Overwriting ./train/network.py\n"
     ]
    }
   ],
   "source": [
    "%%writefile ./train/network.py\n",
    "\n",
    "import torch \n",
    "import torch.nn as nn\n",
    "\n",
    "class Network(nn.Module):\n",
    "    \n",
    "    def __init__(self,batch_size,input_size, \n",
    "                 hidden_size, nb_layers, dropout):\n",
    "        super(Network, self).__init__()\n",
    "        \n",
    "        \n",
    "        self.hidden_size = hidden_size\n",
    "        self.nb_layers = nb_layers\n",
    "        self.dropout = nn.Dropout(dropout)\n",
    "        self.rnn = nn.LSTM(input_size, hidden_size, \n",
    "                           nb_layers, batch_first=True,\n",
    "                           dropout = dropout)\n",
    "        self.fc = nn.Linear(hidden_size, 2)\n",
    "        self.activation = nn.ReLU()\n",
    "        return (h,c)\n",
    "    \n",
    "    def forward(self, sequence):\n",
    "        \n",
    "        out,_ = self.rnn(sequence)\n",
    "        out = self.activation(out)\n",
    "        out = self.fc(out[:, -1, :])\n",
    "        return out\n"
   ]
  },
  {
   "cell_type": "code",
   "execution_count": 109,
   "metadata": {
    "code_folding": [
     0
    ]
   },
   "outputs": [
    {
     "name": "stdout",
     "output_type": "stream",
     "text": [
      "Overwriting ./train/train.py\n"
     ]
    }
   ],
   "source": [
    "%%writefile ./train/train.py\n",
    "\n",
    "\n",
    "import torch \n",
    "import torch.nn as nn\n",
    "import torch.utils.data as utils\n",
    "from network import Network\n",
    "from sklearn.metrics import precision_score,recall_score,f1_score\n",
    "\n",
    "\n",
    "\n",
    "def train(X_train,y_train, \n",
    "          X_val,y_val, \n",
    "          learning_rate,batch_size,\n",
    "          hidden_size, nb_layers,\n",
    "          dropout, run):\n",
    "    \n",
    "    dataset = utils.TensorDataset(torch.from_numpy(X_train),\n",
    "                                  torch.from_numpy(y_train)) \n",
    "    dataloader = utils.DataLoader(dataset, batch_size = batch_size,\n",
    "                                  shuffle = True)\n",
    "    \n",
    "    val_dataset = utils.TensorDataset(torch.from_numpy(X_val),\n",
    "                                      torch.from_numpy(y_val))\n",
    "    val_dataloader = utils.DataLoader(val_dataset)\n",
    "    \n",
    "    use_gpu = torch.device('cuda' if torch.cuda.is_available() else 'cpu')\n",
    "    \n",
    "    input_size = X_train.shape[2]\n",
    "    network = Network(batch_size, \n",
    "                      input_size,hidden_size,\n",
    "                      nb_layers,dropout).to(use_gpu)\n",
    "    \n",
    "    # Loss and optimizer\n",
    "    cost_fn = nn.CrossEntropyLoss()\n",
    "    optimizer = torch.optim.Adam(network.parameters(), lr=learning_rate)\n",
    "    \n",
    "    # Train the model\n",
    "    for epoch in range(nb_epochs):\n",
    "        \n",
    "        \n",
    "        for i, (X, y) in enumerate(dataloader):\n",
    "            optimizer.zero_grad()\n",
    "            \n",
    "            X = X.to(use_gpu)\n",
    "            y = y.to(use_gpu)\n",
    "            y_pred = network(X)\n",
    "            loss = cost_fn(y_pred, y)\n",
    "\n",
    "            # Backprop\n",
    "            loss.backward()\n",
    "            optimizer.step()\n",
    "\n",
    "            if (i+1) % 100 == 0:\n",
    "                run.log('loss', loss.item())\n",
    "                \n",
    "        # end of epoch       \n",
    "        evaluate(val_dataloader, network, use_gpu)\n",
    "        network.train()\n",
    "\n",
    "    return network\n",
    "\n",
    "def evaluate(dataloader, network, use_gpu, run):\n",
    "    \n",
    "    '''\n",
    "        Evaluate model on validation set\n",
    "        \n",
    "        params:\n",
    "            dataloader: dataloader\n",
    "            network: model\n",
    "            use_gpu: device\n",
    "            run: AML RUN\n",
    "    '''\n",
    "    \n",
    "    \n",
    "    \n",
    "    y_pred_lst = []\n",
    "    y_truth_lst = []\n",
    "    with torch.no_grad(): \n",
    "         \n",
    "        for i, (X, y) in enumerate(dataloader):\n",
    "            \n",
    "                X = X.to(use_gpu)\n",
    "                output = network(X)\n",
    "                \n",
    "                print(\"SIZE\",output.size())\n",
    "                y_pred = output.max(1, keepdim=True)[1]\n",
    "                print(y_pred)\n",
    "                \n",
    "                y_pred_lst.append(y_pred)\n",
    "                y_truth_lst.append(y.data.numpy().reshape(-1))\n",
    "                \n",
    "                '''y_pred_np = y_pred.to('cpu').data.numpy()\n",
    "                y_test_np = y.to('cpu').data.numpy()\n",
    "                y_pred_np = np.argmax(y_pred_np, axis=1)'''\n",
    "                \n",
    "        y_pred_np = np.array(y_pred_lst)\n",
    "        y_truth_np = np.array(y_truth_lst)\n",
    "        \n",
    "        precision = precision_score(y_truth_np, y_pred_np)\n",
    "        recall = recall_score(y_truth_np, y_pred_np)\n",
    "        f1 = f1_score(y_truth_np, y_pred_np)\n",
    "\n",
    "        run.log('precision', round(precision,2))\n",
    "        run.log('recall', round(recall,2))\n",
    "        run.log('f1', round(f1,2))\n"
   ]
  },
  {
   "cell_type": "code",
   "execution_count": 110,
   "metadata": {},
   "outputs": [
    {
     "name": "stdout",
     "output_type": "stream",
     "text": [
      "Overwriting ./train/entry.py\n"
     ]
    }
   ],
   "source": [
    "%%writefile ./train/entry.py\n",
    "\n",
    "\n",
    "import os\n",
    "import numpy as np\n",
    "import pandas as pd\n",
    "\n",
    "from utils import tensorize,to_tensors\n",
    "from sklearn.model_selection import train_test_split\n",
    "from azureml.core import Run\n",
    "\n",
    "if __name__ == '__main__':\n",
    "    \n",
    "    print('Pytorch version', torch.__version__)\n",
    "    \n",
    "    parser = argparse.ArgumentParser()\n",
    "    \n",
    "    parser.add_argument('--epochs', type=int, default=2,\n",
    "                        help='number of epochs to train')\n",
    "    parser.add_argument('--learning_rate', type=float,\n",
    "                        default=1e-3, help='learning rate')\n",
    "    parser.add_argument('--dropout', type=float,\n",
    "                        default=.2, help='drop out')\n",
    "    parser.add_argument('--layers', type=int,\n",
    "                        default=1, help='number of layers')\n",
    "    parser.add_argument('--hidden_units', type=int,\n",
    "                        default=16, help='number of neurons')\n",
    "    parser.add_argument('--batch_size', type=int,\n",
    "                        default=16, help='Mini batch size')\n",
    "    parser.add_argument('--data_path', type=str, \n",
    "                        help='path to training-set file')\n",
    "    parser.add_argument('--output_dir', type=str, \n",
    "                        help='output directory')\n",
    "    \n",
    "    args = parser.parse_args()\n",
    "    nb_epochs = args.epochs\n",
    "    learning_rate = args.learning_rate\n",
    "    dropout = args.dropout\n",
    "    data_path = args.data_path\n",
    "    output_dir = args.output_dir\n",
    "    nb_layers = args.layers\n",
    "    batch_size = args.batch_size\n",
    "    \n",
    "    hidden_size = args.hidden_units\n",
    "    batch_size = args.batch_size\n",
    "    \n",
    "    SEED = 123\n",
    "    torch.manual_seed(SEED)\n",
    "    np.random.seed(SEED)\n",
    "    \n",
    "    print(\"Start training\")\n",
    "    \n",
    "    print('learning rate', learning_rate)\n",
    "    print('dropout', dropout)\n",
    "    print('batch_size', batch_size)\n",
    "    print('hidden_units', hidden_size)\n",
    "    \n",
    "    run = Run.get_context()\n",
    "    \n",
    "    os.makedirs(data_path, exist_ok = True)\n",
    "    training_file = os.path.join(data_path, 'preprocessed_train_file.csv')\n",
    "    \n",
    "    X, y = to_tensors(training_file)\n",
    "    X_train, X_test, y_train, y_test = train_test_split(\n",
    "                             X, y, test_size=0.15, random_state=SEED)\n",
    "    \n",
    "\n",
    "    \n",
    "    network = train( X_train,y_train, \n",
    "                    X_test,y_test, \n",
    "                    learning_rate,batch_size,\n",
    "                    hidden_size,nb_layers,\n",
    "                    dropout, run)\n",
    "    \n",
    "    os.makedirs(output_dir, exist_ok = True)\n",
    "    model_path = os.path.join(output_dir, 'network.pth')\n",
    "    \n",
    "    torch.save(network, model_path)\n",
    "    run.register_model(model_name = 'network.pth', model_path = model_path)"
   ]
  },
  {
   "cell_type": "markdown",
   "metadata": {},
   "source": [
    "## Estimator\n",
    "\n",
    "Here, we define the Pytorch estimator."
   ]
  },
  {
   "cell_type": "code",
   "execution_count": 111,
   "metadata": {},
   "outputs": [],
   "source": [
    "script_params = {\n",
    "    '--epochs': 2,\n",
    "    '--data_path': ds_path,\n",
    "    '--output_dir': './outputs'\n",
    "}\n",
    "\n",
    "estimator = PyTorch(source_directory = training_dir, \n",
    "                    conda_packages = ['pandas', 'numpy', 'scikit-learn'],\n",
    "                    pip_packages = ['torch==1.0.0','torchvision'],\n",
    "                    script_params=script_params,\n",
    "                    compute_target=compute_target,\n",
    "                    entry_script='entry.py',\n",
    "                    use_gpu=True)"
   ]
  },
  {
   "cell_type": "markdown",
   "metadata": {},
   "source": [
    "## Hyperparameters tuning using Hyperdrive\n",
    "\n",
    "Here, we define hyerdrive configuration, as we are interested in true equipement failure, we will configure hyperdrive to maximize precision metric. For completness we will be tracking recall and F1 in the experiment"
   ]
  },
  {
   "cell_type": "code",
   "execution_count": 112,
   "metadata": {},
   "outputs": [],
   "source": [
    "param_sampling = RandomParameterSampling( {\n",
    "        'learning_rate': uniform(1e-4, 1e-2),\n",
    "        'dropout': uniform(.5,.7),\n",
    "        'layers': choice(1,2),\n",
    "        'batch_size': choice(16,32,64),\n",
    "        'hidden_units': choice(4,8,12)\n",
    "    }\n",
    ")\n",
    "\n",
    "termination_policy = BanditPolicy(slack_factor=.1, evaluation_interval=1, delay_evaluation=1)\n",
    "\n",
    "hd_run_config = HyperDriveRunConfig(estimator=estimator,\n",
    "                                            hyperparameter_sampling=param_sampling, \n",
    "                                            policy=termination_policy,\n",
    "                                            primary_metric_name='precision',\n",
    "                                            primary_metric_goal=PrimaryMetricGoal.MAXIMIZE,\n",
    "                                            max_total_runs=2,\n",
    "                                            max_concurrent_runs=1)"
   ]
  },
  {
   "cell_type": "markdown",
   "metadata": {},
   "source": [
    "We submit the exepriment for execution and render the Run execution through the widget"
   ]
  },
  {
   "cell_type": "code",
   "execution_count": 113,
   "metadata": {},
   "outputs": [],
   "source": [
    "experiment = Experiment(workspace=ws, name=exp_name)\n",
    "run = experiment.submit(hd_run_config)\n"
   ]
  },
  {
   "cell_type": "code",
   "execution_count": 114,
   "metadata": {
    "scrolled": false
   },
   "outputs": [
    {
     "data": {
      "application/vnd.jupyter.widget-view+json": {
       "model_id": "99ef4976085a44ec86c3b2723afce462",
       "version_major": 2,
       "version_minor": 0
      },
      "text/plain": [
       "_HyperDriveWidget(widget_settings={'childWidgetDisplay': 'popup', 'send_telemetry': False, 'log_level': 'INFO'…"
      ]
     },
     "metadata": {},
     "output_type": "display_data"
    }
   ],
   "source": [
    "RunDetails(run).show()"
   ]
  },
  {
   "cell_type": "markdown",
   "metadata": {},
   "source": [
    "# Model registration\n",
    "\n",
    "Finally, we save the best trained model found by hyperdrive based on the primary metric, we have selected."
   ]
  },
  {
   "cell_type": "code",
   "execution_count": 114,
   "metadata": {},
   "outputs": [
    {
     "name": "stdout",
     "output_type": "stream",
     "text": [
      "deep_pdm saved\n"
     ]
    }
   ],
   "source": [
    "best_run = run.get_best_run_by_primary_metric()\n",
    "\n",
    "model = best_run.register_model(model_name='deep_pdm', model_path='outputs/model')\n",
    "print(model.name, 'saved')"
   ]
  },
  {
   "cell_type": "markdown",
   "metadata": {},
   "source": [
    "## Model operationalization\n",
    "\n",
    "\n",
    "We are now ready to operationalizing the model and deloying the webservice. For testing purposes, we wil use ACI to serve predictions.\n",
    "\n",
    "For more details on Model deployment workflow in Azure Machine learning service,click [here](https://docs.microsoft.com/en-us/azure/machine-learning/service/how-to-deploy-and-where#deployment-workflow) "
   ]
  },
  {
   "cell_type": "code",
   "execution_count": 86,
   "metadata": {},
   "outputs": [],
   "source": [
    "#%%writefile $score/score.py\n",
    "import os\n",
    "import torch \n",
    "import numpy as np\n",
    "import pandas as pd\n",
    "from utils import to_tensors\n",
    "import torch.utils.data as utils\n",
    "from azureml.core.model import Model\n",
    "\n",
    "\n",
    "def init():\n",
    "    global model\n",
    "    \n",
    "    model_path = os.path.join(os.getcwd(),'network.pth')# Model.get_model_path(model_name='deep_pdm')\n",
    "    print(model_path)\n",
    "    model = torch.load(model_path, map_location=torch.device('cpu'))\n",
    "    model.eval()\n",
    "    print(list(model.modules()))\n",
    "    \n",
    "\n",
    "def run(raw_input):\n",
    "    path = raw_input\n",
    "    X,_ = to_tensors(path, is_test = True)\n",
    "    \n",
    "    output = []\n",
    "    \n",
    "    dataset = utils.TensorDataset(torch.from_numpy(X)) \n",
    "    dataloader = utils.DataLoader(dataset)\n",
    "    with torch.no_grad():\n",
    "        for i, (x,) in enumerate(dataloader):\n",
    "            score = model(x)\n",
    "            output.append(score[0,0].item())\n",
    "        \n",
    "    print(output)\n",
    "    "
   ]
  },
  {
   "cell_type": "code",
   "execution_count": 87,
   "metadata": {},
   "outputs": [
    {
     "name": "stdout",
     "output_type": "stream",
     "text": [
      "/home/sasuke/dev/amlsamples/deep_predictive_maintenance/network.pth\n",
      "[Network(\n",
      "  (dropout): Dropout(p=0.594920723381342)\n",
      "  (rnn): LSTM(25, 8, num_layers=2, batch_first=True, dropout=0.594920723381342)\n",
      "  (fc): Linear(in_features=8, out_features=2, bias=True)\n",
      "  (activation): ReLU()\n",
      "), Dropout(p=0.594920723381342), LSTM(25, 8, num_layers=2, batch_first=True, dropout=0.594920723381342), Linear(in_features=8, out_features=2, bias=True), ReLU()]\n"
     ]
    }
   ],
   "source": [
    "init()"
   ]
  },
  {
   "cell_type": "code",
   "execution_count": 88,
   "metadata": {},
   "outputs": [
    {
     "name": "stdout",
     "output_type": "stream",
     "text": [
      "(93, 50, 25) (93,)\n",
      "[0.6579362750053406, 0.6827903389930725, 0.6856022477149963, 0.6870995163917542, 0.6892296671867371, 0.6818177700042725, 0.6887280344963074, 0.688127338886261, 0.6774036288261414, 0.6881359219551086, 0.688002347946167, 0.689796507358551, 0.6890905499458313, 0.6787527203559875, 0.6698659062385559, 0.6885688900947571, -1.259244441986084, 0.6891939043998718, 0.689296543598175, -1.2567304372787476, 0.6893431544303894, 0.6885995864868164, 0.6875244975090027, 0.6880383491516113, 0.6770665645599365, -1.2777116298675537, 0.6873858571052551, 0.6873782277107239, -1.2744704484939575, -1.2873883247375488, -1.2401834726333618, 0.6712453961372375, 0.6774820685386658, -1.184152603149414, 0.6149030327796936, -1.202048420906067, 0.6798074245452881, 0.6892711520195007, 0.6633759140968323, 0.22751732170581818, 0.6870855093002319, 0.6890868544578552, -1.2535617351531982, 0.6891904473304749, 0.6876607537269592, 0.6661853194236755, -0.9792339205741882, 0.689935564994812, 0.6891705989837646, -1.2906688451766968, 0.6814276576042175, 0.6482650637626648, 0.6892538666725159, 0.6872390508651733, -1.1144691705703735, 0.6720932126045227, 0.6713792681694031, -0.5512720942497253, 0.6891360282897949, -1.116087794303894, 0.6894621253013611, -1.2942224740982056, 0.6891830563545227, 0.6855611205101013, 0.6896784901618958, 0.6880379319190979, 0.6893351674079895, 0.6866558194160461, 0.6895068287849426, -1.2698581218719482, 0.6317753195762634, 0.6898975968360901, 0.6886381506919861, 0.6858178973197937, -1.2674504518508911, -1.1952482461929321, 0.6893097758293152, 0.6810908913612366, 0.6877521872520447, 0.6897924542427063, 0.6872144341468811, 0.685520589351654, -0.5868987441062927, -1.2906357049942017, -1.1443432569503784, -0.9207367897033691, 0.6518625617027283, 0.689096212387085, 0.689605176448822, 0.6885306239128113, 0.6844005584716797, 0.6897427439689636, -1.1738080978393555]\n"
     ]
    }
   ],
   "source": [
    "run(\"./data/preprocessed_test_file.csv\")"
   ]
  },
  {
   "cell_type": "code",
   "execution_count": null,
   "metadata": {},
   "outputs": [],
   "source": []
  }
 ],
 "metadata": {
  "anaconda-cloud": {},
  "kernelspec": {
   "display_name": "amlenv",
   "language": "python",
   "name": "amlenv"
  },
  "language_info": {
   "codemirror_mode": {
    "name": "ipython",
    "version": 3
   },
   "file_extension": ".py",
   "mimetype": "text/x-python",
   "name": "python",
   "nbconvert_exporter": "python",
   "pygments_lexer": "ipython3",
   "version": "3.6.7"
  },
  "varInspector": {
   "cols": {
    "lenName": 16,
    "lenType": 16,
    "lenVar": 40
   },
   "kernels_config": {
    "python": {
     "delete_cmd_postfix": "",
     "delete_cmd_prefix": "del ",
     "library": "var_list.py",
     "varRefreshCmd": "print(var_dic_list())"
    },
    "r": {
     "delete_cmd_postfix": ") ",
     "delete_cmd_prefix": "rm(",
     "library": "var_list.r",
     "varRefreshCmd": "cat(var_dic_list()) "
    }
   },
   "types_to_exclude": [
    "module",
    "function",
    "builtin_function_or_method",
    "instance",
    "_Feature"
   ],
   "window_display": false
  }
 },
 "nbformat": 4,
 "nbformat_minor": 2
}
